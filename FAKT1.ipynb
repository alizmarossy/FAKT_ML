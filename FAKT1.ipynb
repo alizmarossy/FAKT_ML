{
  "nbformat": 4,
  "nbformat_minor": 0,
  "metadata": {
    "colab": {
      "name": "FAKT1.ipynb",
      "provenance": [],
      "collapsed_sections": [],
      "include_colab_link": true
    },
    "kernelspec": {
      "name": "python3",
      "display_name": "Python 3"
    },
    "language_info": {
      "name": "python"
    }
  },
  "cells": [
    {
      "cell_type": "markdown",
      "metadata": {
        "id": "view-in-github",
        "colab_type": "text"
      },
      "source": [
        "<a href=\"https://colab.research.google.com/github/alizmarossy/FAKT_ML/blob/main/FAKT1.ipynb\" target=\"_parent\"><img src=\"https://colab.research.google.com/assets/colab-badge.svg\" alt=\"Open In Colab\"/></a>"
      ]
    },
    {
      "cell_type": "code",
      "execution_count": null,
      "metadata": {
        "id": "OgJIuoKd-8Qg"
      },
      "outputs": [],
      "source": [
        "import sys\n",
        "import matplotlib.pyplot as plt\n",
        "from matplotlib.pyplot import figure\n",
        "\n",
        "import numpy as np\n",
        "import pandas as pd\n",
        "from  matplotlib import pyplot as plt\n",
        "import seaborn as sns\n",
        "sns.set_style(\"darkgrid\")\n",
        "import warnings\n",
        "from random import choice, randint\n",
        "from string import ascii_uppercase\n",
        "from termcolor import colored"
      ]
    },
    {
      "cell_type": "code",
      "source": [
        "df = pd.read_csv(\"http://www.attilamarossy.com/data/survey_results_public.xlsx\")"
      ],
      "metadata": {
        "id": "eQatkh6jAFEh"
      },
      "execution_count": null,
      "outputs": []
    },
    {
      "cell_type": "markdown",
      "source": [
        "# EDA (Exploratory Data Analysis)"
      ],
      "metadata": {
        "id": "czby5BvOAXRU"
      }
    },
    {
      "cell_type": "code",
      "source": [
        "type(df)"
      ],
      "metadata": {
        "colab": {
          "base_uri": "https://localhost:8080/"
        },
        "id": "K-0czQiNAdx3",
        "outputId": "aa2cb1db-dcae-4a4c-ab2a-9a0ae79280c9"
      },
      "execution_count": null,
      "outputs": [
        {
          "output_type": "execute_result",
          "data": {
            "text/plain": [
              "pandas.core.frame.DataFrame"
            ]
          },
          "metadata": {},
          "execution_count": 4
        }
      ]
    },
    {
      "cell_type": "code",
      "source": [
        "df.shape"
      ],
      "metadata": {
        "colab": {
          "base_uri": "https://localhost:8080/"
        },
        "id": "38s2w3RCALQO",
        "outputId": "1d5bf100-643e-4cc6-b844-eb2f89c4fb1a"
      },
      "execution_count": null,
      "outputs": [
        {
          "output_type": "execute_result",
          "data": {
            "text/plain": [
              "(83439, 48)"
            ]
          },
          "metadata": {},
          "execution_count": 5
        }
      ]
    },
    {
      "cell_type": "code",
      "source": [
        "len(df)"
      ],
      "metadata": {
        "colab": {
          "base_uri": "https://localhost:8080/"
        },
        "id": "0QboMgorBH8y",
        "outputId": "bf304602-b844-4dbd-8d02-5b50def68cfb"
      },
      "execution_count": null,
      "outputs": [
        {
          "output_type": "execute_result",
          "data": {
            "text/plain": [
              "83439"
            ]
          },
          "metadata": {},
          "execution_count": 6
        }
      ]
    },
    {
      "cell_type": "code",
      "source": [
        "df.shape[0]"
      ],
      "metadata": {
        "colab": {
          "base_uri": "https://localhost:8080/"
        },
        "id": "4Lw9ZPSeBNgq",
        "outputId": "a1c5d2bf-77db-4f3c-c150-553e6cba19fc"
      },
      "execution_count": null,
      "outputs": [
        {
          "output_type": "execute_result",
          "data": {
            "text/plain": [
              "83439"
            ]
          },
          "metadata": {},
          "execution_count": 7
        }
      ]
    },
    {
      "cell_type": "code",
      "source": [
        "df.columns"
      ],
      "metadata": {
        "colab": {
          "base_uri": "https://localhost:8080/"
        },
        "id": "nxyO0bDABTd6",
        "outputId": "a13d7dbc-7f8d-47fb-96bb-44873066f2b8"
      },
      "execution_count": null,
      "outputs": [
        {
          "output_type": "execute_result",
          "data": {
            "text/plain": [
              "Index(['ResponseId', 'MainBranch', 'Employment', 'Country', 'US_State',\n",
              "       'UK_Country', 'EdLevel', 'Age1stCode', 'LearnCode', 'YearsCode',\n",
              "       'YearsCodePro', 'DevType', 'OrgSize', 'Currency', 'CompTotal',\n",
              "       'CompFreq', 'LanguageHaveWorkedWith', 'LanguageWantToWorkWith',\n",
              "       'DatabaseHaveWorkedWith', 'DatabaseWantToWorkWith',\n",
              "       'PlatformHaveWorkedWith', 'PlatformWantToWorkWith',\n",
              "       'WebframeHaveWorkedWith', 'WebframeWantToWorkWith',\n",
              "       'MiscTechHaveWorkedWith', 'MiscTechWantToWorkWith',\n",
              "       'ToolsTechHaveWorkedWith', 'ToolsTechWantToWorkWith',\n",
              "       'NEWCollabToolsHaveWorkedWith', 'NEWCollabToolsWantToWorkWith', 'OpSys',\n",
              "       'NEWStuck', 'NEWSOSites', 'SOVisitFreq', 'SOAccount', 'SOPartFreq',\n",
              "       'SOComm', 'NEWOtherComms', 'Age', 'Gender', 'Trans', 'Sexuality',\n",
              "       'Ethnicity', 'Accessibility', 'MentalHealth', 'SurveyLength',\n",
              "       'SurveyEase', 'ConvertedCompYearly'],\n",
              "      dtype='object')"
            ]
          },
          "metadata": {},
          "execution_count": 8
        }
      ]
    },
    {
      "cell_type": "code",
      "source": [
        "df.head(3).T"
      ],
      "metadata": {
        "colab": {
          "base_uri": "https://localhost:8080/",
          "height": 1000
        },
        "id": "Gg2841Y9BZd6",
        "outputId": "04c3a96c-1116-4b17-f701-2444305cbe7e"
      },
      "execution_count": null,
      "outputs": [
        {
          "output_type": "execute_result",
          "data": {
            "text/html": [
              "\n",
              "  <div id=\"df-9d626f81-f249-4999-bafc-568faeefaf18\">\n",
              "    <div class=\"colab-df-container\">\n",
              "      <div>\n",
              "<style scoped>\n",
              "    .dataframe tbody tr th:only-of-type {\n",
              "        vertical-align: middle;\n",
              "    }\n",
              "\n",
              "    .dataframe tbody tr th {\n",
              "        vertical-align: top;\n",
              "    }\n",
              "\n",
              "    .dataframe thead th {\n",
              "        text-align: right;\n",
              "    }\n",
              "</style>\n",
              "<table border=\"1\" class=\"dataframe\">\n",
              "  <thead>\n",
              "    <tr style=\"text-align: right;\">\n",
              "      <th></th>\n",
              "      <th>0</th>\n",
              "      <th>1</th>\n",
              "      <th>2</th>\n",
              "    </tr>\n",
              "  </thead>\n",
              "  <tbody>\n",
              "    <tr>\n",
              "      <th>ResponseId</th>\n",
              "      <td>1</td>\n",
              "      <td>2</td>\n",
              "      <td>3</td>\n",
              "    </tr>\n",
              "    <tr>\n",
              "      <th>MainBranch</th>\n",
              "      <td>I am a developer by profession</td>\n",
              "      <td>I am a student who is learning to code</td>\n",
              "      <td>I am not primarily a developer, but I write co...</td>\n",
              "    </tr>\n",
              "    <tr>\n",
              "      <th>Employment</th>\n",
              "      <td>Independent contractor, freelancer, or self-em...</td>\n",
              "      <td>Student, full-time</td>\n",
              "      <td>Student, full-time</td>\n",
              "    </tr>\n",
              "    <tr>\n",
              "      <th>Country</th>\n",
              "      <td>Slovakia</td>\n",
              "      <td>Netherlands</td>\n",
              "      <td>Russian Federation</td>\n",
              "    </tr>\n",
              "    <tr>\n",
              "      <th>US_State</th>\n",
              "      <td>NaN</td>\n",
              "      <td>NaN</td>\n",
              "      <td>NaN</td>\n",
              "    </tr>\n",
              "    <tr>\n",
              "      <th>UK_Country</th>\n",
              "      <td>NaN</td>\n",
              "      <td>NaN</td>\n",
              "      <td>NaN</td>\n",
              "    </tr>\n",
              "    <tr>\n",
              "      <th>EdLevel</th>\n",
              "      <td>Secondary school (e.g. American high school, G...</td>\n",
              "      <td>Bachelor’s degree (B.A., B.S., B.Eng., etc.)</td>\n",
              "      <td>Bachelor’s degree (B.A., B.S., B.Eng., etc.)</td>\n",
              "    </tr>\n",
              "    <tr>\n",
              "      <th>Age1stCode</th>\n",
              "      <td>18 - 24 years</td>\n",
              "      <td>11 - 17 years</td>\n",
              "      <td>11 - 17 years</td>\n",
              "    </tr>\n",
              "    <tr>\n",
              "      <th>LearnCode</th>\n",
              "      <td>Coding Bootcamp;Other online resources (ex: vi...</td>\n",
              "      <td>Other online resources (ex: videos, blogs, etc...</td>\n",
              "      <td>Other online resources (ex: videos, blogs, etc...</td>\n",
              "    </tr>\n",
              "    <tr>\n",
              "      <th>YearsCode</th>\n",
              "      <td>NaN</td>\n",
              "      <td>7</td>\n",
              "      <td>NaN</td>\n",
              "    </tr>\n",
              "    <tr>\n",
              "      <th>YearsCodePro</th>\n",
              "      <td>NaN</td>\n",
              "      <td>NaN</td>\n",
              "      <td>NaN</td>\n",
              "    </tr>\n",
              "    <tr>\n",
              "      <th>DevType</th>\n",
              "      <td>Developer, mobile</td>\n",
              "      <td>NaN</td>\n",
              "      <td>NaN</td>\n",
              "    </tr>\n",
              "    <tr>\n",
              "      <th>OrgSize</th>\n",
              "      <td>20 to 99 employees</td>\n",
              "      <td>NaN</td>\n",
              "      <td>NaN</td>\n",
              "    </tr>\n",
              "    <tr>\n",
              "      <th>Currency</th>\n",
              "      <td>EUR European Euro</td>\n",
              "      <td>NaN</td>\n",
              "      <td>NaN</td>\n",
              "    </tr>\n",
              "    <tr>\n",
              "      <th>CompTotal</th>\n",
              "      <td>4800.0</td>\n",
              "      <td>NaN</td>\n",
              "      <td>NaN</td>\n",
              "    </tr>\n",
              "    <tr>\n",
              "      <th>CompFreq</th>\n",
              "      <td>Monthly</td>\n",
              "      <td>NaN</td>\n",
              "      <td>NaN</td>\n",
              "    </tr>\n",
              "    <tr>\n",
              "      <th>LanguageHaveWorkedWith</th>\n",
              "      <td>C++;HTML/CSS;JavaScript;Objective-C;PHP;Swift</td>\n",
              "      <td>JavaScript;Python</td>\n",
              "      <td>Assembly;C;Python;R;Rust</td>\n",
              "    </tr>\n",
              "    <tr>\n",
              "      <th>LanguageWantToWorkWith</th>\n",
              "      <td>Swift</td>\n",
              "      <td>NaN</td>\n",
              "      <td>Julia;Python;Rust</td>\n",
              "    </tr>\n",
              "    <tr>\n",
              "      <th>DatabaseHaveWorkedWith</th>\n",
              "      <td>PostgreSQL;SQLite</td>\n",
              "      <td>PostgreSQL</td>\n",
              "      <td>SQLite</td>\n",
              "    </tr>\n",
              "    <tr>\n",
              "      <th>DatabaseWantToWorkWith</th>\n",
              "      <td>SQLite</td>\n",
              "      <td>NaN</td>\n",
              "      <td>SQLite</td>\n",
              "    </tr>\n",
              "    <tr>\n",
              "      <th>PlatformHaveWorkedWith</th>\n",
              "      <td>NaN</td>\n",
              "      <td>NaN</td>\n",
              "      <td>Heroku</td>\n",
              "    </tr>\n",
              "    <tr>\n",
              "      <th>PlatformWantToWorkWith</th>\n",
              "      <td>NaN</td>\n",
              "      <td>NaN</td>\n",
              "      <td>NaN</td>\n",
              "    </tr>\n",
              "    <tr>\n",
              "      <th>WebframeHaveWorkedWith</th>\n",
              "      <td>Laravel;Symfony</td>\n",
              "      <td>Angular;Flask;Vue.js</td>\n",
              "      <td>Flask</td>\n",
              "    </tr>\n",
              "    <tr>\n",
              "      <th>WebframeWantToWorkWith</th>\n",
              "      <td>NaN</td>\n",
              "      <td>NaN</td>\n",
              "      <td>Flask</td>\n",
              "    </tr>\n",
              "    <tr>\n",
              "      <th>MiscTechHaveWorkedWith</th>\n",
              "      <td>NaN</td>\n",
              "      <td>Cordova</td>\n",
              "      <td>NumPy;Pandas;TensorFlow;Torch/PyTorch</td>\n",
              "    </tr>\n",
              "    <tr>\n",
              "      <th>MiscTechWantToWorkWith</th>\n",
              "      <td>NaN</td>\n",
              "      <td>NaN</td>\n",
              "      <td>Keras;NumPy;Pandas;TensorFlow;Torch/PyTorch</td>\n",
              "    </tr>\n",
              "    <tr>\n",
              "      <th>ToolsTechHaveWorkedWith</th>\n",
              "      <td>NaN</td>\n",
              "      <td>Docker;Git;Yarn</td>\n",
              "      <td>NaN</td>\n",
              "    </tr>\n",
              "    <tr>\n",
              "      <th>ToolsTechWantToWorkWith</th>\n",
              "      <td>NaN</td>\n",
              "      <td>Git</td>\n",
              "      <td>NaN</td>\n",
              "    </tr>\n",
              "    <tr>\n",
              "      <th>NEWCollabToolsHaveWorkedWith</th>\n",
              "      <td>PHPStorm;Xcode</td>\n",
              "      <td>Android Studio;IntelliJ;Notepad++;PyCharm</td>\n",
              "      <td>IPython/Jupyter;PyCharm;RStudio;Sublime Text;V...</td>\n",
              "    </tr>\n",
              "    <tr>\n",
              "      <th>NEWCollabToolsWantToWorkWith</th>\n",
              "      <td>Atom;Xcode</td>\n",
              "      <td>NaN</td>\n",
              "      <td>IPython/Jupyter;RStudio;Sublime Text;Visual St...</td>\n",
              "    </tr>\n",
              "    <tr>\n",
              "      <th>OpSys</th>\n",
              "      <td>MacOS</td>\n",
              "      <td>Windows</td>\n",
              "      <td>MacOS</td>\n",
              "    </tr>\n",
              "    <tr>\n",
              "      <th>NEWStuck</th>\n",
              "      <td>Call a coworker or friend;Visit Stack Overflow...</td>\n",
              "      <td>Visit Stack Overflow;Google it</td>\n",
              "      <td>Visit Stack Overflow;Google it;Watch help / tu...</td>\n",
              "    </tr>\n",
              "    <tr>\n",
              "      <th>NEWSOSites</th>\n",
              "      <td>Stack Overflow</td>\n",
              "      <td>Stack Overflow</td>\n",
              "      <td>Stack Overflow;Stack Exchange</td>\n",
              "    </tr>\n",
              "    <tr>\n",
              "      <th>SOVisitFreq</th>\n",
              "      <td>Multiple times per day</td>\n",
              "      <td>Daily or almost daily</td>\n",
              "      <td>Multiple times per day</td>\n",
              "    </tr>\n",
              "    <tr>\n",
              "      <th>SOAccount</th>\n",
              "      <td>Yes</td>\n",
              "      <td>Yes</td>\n",
              "      <td>Yes</td>\n",
              "    </tr>\n",
              "    <tr>\n",
              "      <th>SOPartFreq</th>\n",
              "      <td>A few times per month or weekly</td>\n",
              "      <td>Daily or almost daily</td>\n",
              "      <td>Multiple times per day</td>\n",
              "    </tr>\n",
              "    <tr>\n",
              "      <th>SOComm</th>\n",
              "      <td>Yes, definitely</td>\n",
              "      <td>Yes, definitely</td>\n",
              "      <td>Yes, definitely</td>\n",
              "    </tr>\n",
              "    <tr>\n",
              "      <th>NEWOtherComms</th>\n",
              "      <td>No</td>\n",
              "      <td>No</td>\n",
              "      <td>Yes</td>\n",
              "    </tr>\n",
              "    <tr>\n",
              "      <th>Age</th>\n",
              "      <td>25-34 years old</td>\n",
              "      <td>18-24 years old</td>\n",
              "      <td>18-24 years old</td>\n",
              "    </tr>\n",
              "    <tr>\n",
              "      <th>Gender</th>\n",
              "      <td>Man</td>\n",
              "      <td>Man</td>\n",
              "      <td>Man</td>\n",
              "    </tr>\n",
              "    <tr>\n",
              "      <th>Trans</th>\n",
              "      <td>No</td>\n",
              "      <td>No</td>\n",
              "      <td>No</td>\n",
              "    </tr>\n",
              "    <tr>\n",
              "      <th>Sexuality</th>\n",
              "      <td>Straight / Heterosexual</td>\n",
              "      <td>Straight / Heterosexual</td>\n",
              "      <td>Prefer not to say</td>\n",
              "    </tr>\n",
              "    <tr>\n",
              "      <th>Ethnicity</th>\n",
              "      <td>White or of European descent</td>\n",
              "      <td>White or of European descent</td>\n",
              "      <td>Prefer not to say</td>\n",
              "    </tr>\n",
              "    <tr>\n",
              "      <th>Accessibility</th>\n",
              "      <td>None of the above</td>\n",
              "      <td>None of the above</td>\n",
              "      <td>None of the above</td>\n",
              "    </tr>\n",
              "    <tr>\n",
              "      <th>MentalHealth</th>\n",
              "      <td>None of the above</td>\n",
              "      <td>None of the above</td>\n",
              "      <td>None of the above</td>\n",
              "    </tr>\n",
              "    <tr>\n",
              "      <th>SurveyLength</th>\n",
              "      <td>Appropriate in length</td>\n",
              "      <td>Appropriate in length</td>\n",
              "      <td>Appropriate in length</td>\n",
              "    </tr>\n",
              "    <tr>\n",
              "      <th>SurveyEase</th>\n",
              "      <td>Easy</td>\n",
              "      <td>Easy</td>\n",
              "      <td>Easy</td>\n",
              "    </tr>\n",
              "    <tr>\n",
              "      <th>ConvertedCompYearly</th>\n",
              "      <td>62268.0</td>\n",
              "      <td>NaN</td>\n",
              "      <td>NaN</td>\n",
              "    </tr>\n",
              "  </tbody>\n",
              "</table>\n",
              "</div>\n",
              "      <button class=\"colab-df-convert\" onclick=\"convertToInteractive('df-9d626f81-f249-4999-bafc-568faeefaf18')\"\n",
              "              title=\"Convert this dataframe to an interactive table.\"\n",
              "              style=\"display:none;\">\n",
              "        \n",
              "  <svg xmlns=\"http://www.w3.org/2000/svg\" height=\"24px\"viewBox=\"0 0 24 24\"\n",
              "       width=\"24px\">\n",
              "    <path d=\"M0 0h24v24H0V0z\" fill=\"none\"/>\n",
              "    <path d=\"M18.56 5.44l.94 2.06.94-2.06 2.06-.94-2.06-.94-.94-2.06-.94 2.06-2.06.94zm-11 1L8.5 8.5l.94-2.06 2.06-.94-2.06-.94L8.5 2.5l-.94 2.06-2.06.94zm10 10l.94 2.06.94-2.06 2.06-.94-2.06-.94-.94-2.06-.94 2.06-2.06.94z\"/><path d=\"M17.41 7.96l-1.37-1.37c-.4-.4-.92-.59-1.43-.59-.52 0-1.04.2-1.43.59L10.3 9.45l-7.72 7.72c-.78.78-.78 2.05 0 2.83L4 21.41c.39.39.9.59 1.41.59.51 0 1.02-.2 1.41-.59l7.78-7.78 2.81-2.81c.8-.78.8-2.07 0-2.86zM5.41 20L4 18.59l7.72-7.72 1.47 1.35L5.41 20z\"/>\n",
              "  </svg>\n",
              "      </button>\n",
              "      \n",
              "  <style>\n",
              "    .colab-df-container {\n",
              "      display:flex;\n",
              "      flex-wrap:wrap;\n",
              "      gap: 12px;\n",
              "    }\n",
              "\n",
              "    .colab-df-convert {\n",
              "      background-color: #E8F0FE;\n",
              "      border: none;\n",
              "      border-radius: 50%;\n",
              "      cursor: pointer;\n",
              "      display: none;\n",
              "      fill: #1967D2;\n",
              "      height: 32px;\n",
              "      padding: 0 0 0 0;\n",
              "      width: 32px;\n",
              "    }\n",
              "\n",
              "    .colab-df-convert:hover {\n",
              "      background-color: #E2EBFA;\n",
              "      box-shadow: 0px 1px 2px rgba(60, 64, 67, 0.3), 0px 1px 3px 1px rgba(60, 64, 67, 0.15);\n",
              "      fill: #174EA6;\n",
              "    }\n",
              "\n",
              "    [theme=dark] .colab-df-convert {\n",
              "      background-color: #3B4455;\n",
              "      fill: #D2E3FC;\n",
              "    }\n",
              "\n",
              "    [theme=dark] .colab-df-convert:hover {\n",
              "      background-color: #434B5C;\n",
              "      box-shadow: 0px 1px 3px 1px rgba(0, 0, 0, 0.15);\n",
              "      filter: drop-shadow(0px 1px 2px rgba(0, 0, 0, 0.3));\n",
              "      fill: #FFFFFF;\n",
              "    }\n",
              "  </style>\n",
              "\n",
              "      <script>\n",
              "        const buttonEl =\n",
              "          document.querySelector('#df-9d626f81-f249-4999-bafc-568faeefaf18 button.colab-df-convert');\n",
              "        buttonEl.style.display =\n",
              "          google.colab.kernel.accessAllowed ? 'block' : 'none';\n",
              "\n",
              "        async function convertToInteractive(key) {\n",
              "          const element = document.querySelector('#df-9d626f81-f249-4999-bafc-568faeefaf18');\n",
              "          const dataTable =\n",
              "            await google.colab.kernel.invokeFunction('convertToInteractive',\n",
              "                                                     [key], {});\n",
              "          if (!dataTable) return;\n",
              "\n",
              "          const docLinkHtml = 'Like what you see? Visit the ' +\n",
              "            '<a target=\"_blank\" href=https://colab.research.google.com/notebooks/data_table.ipynb>data table notebook</a>'\n",
              "            + ' to learn more about interactive tables.';\n",
              "          element.innerHTML = '';\n",
              "          dataTable['output_type'] = 'display_data';\n",
              "          await google.colab.output.renderOutput(dataTable, element);\n",
              "          const docLink = document.createElement('div');\n",
              "          docLink.innerHTML = docLinkHtml;\n",
              "          element.appendChild(docLink);\n",
              "        }\n",
              "      </script>\n",
              "    </div>\n",
              "  </div>\n",
              "  "
            ],
            "text/plain": [
              "                                                                              0  \\\n",
              "ResponseId                                                                    1   \n",
              "MainBranch                                       I am a developer by profession   \n",
              "Employment                    Independent contractor, freelancer, or self-em...   \n",
              "Country                                                                Slovakia   \n",
              "US_State                                                                    NaN   \n",
              "UK_Country                                                                  NaN   \n",
              "EdLevel                       Secondary school (e.g. American high school, G...   \n",
              "Age1stCode                                                        18 - 24 years   \n",
              "LearnCode                     Coding Bootcamp;Other online resources (ex: vi...   \n",
              "YearsCode                                                                   NaN   \n",
              "YearsCodePro                                                                NaN   \n",
              "DevType                                                       Developer, mobile   \n",
              "OrgSize                                                      20 to 99 employees   \n",
              "Currency                                                      EUR European Euro   \n",
              "CompTotal                                                                4800.0   \n",
              "CompFreq                                                                Monthly   \n",
              "LanguageHaveWorkedWith            C++;HTML/CSS;JavaScript;Objective-C;PHP;Swift   \n",
              "LanguageWantToWorkWith                                                    Swift   \n",
              "DatabaseHaveWorkedWith                                        PostgreSQL;SQLite   \n",
              "DatabaseWantToWorkWith                                                   SQLite   \n",
              "PlatformHaveWorkedWith                                                      NaN   \n",
              "PlatformWantToWorkWith                                                      NaN   \n",
              "WebframeHaveWorkedWith                                          Laravel;Symfony   \n",
              "WebframeWantToWorkWith                                                      NaN   \n",
              "MiscTechHaveWorkedWith                                                      NaN   \n",
              "MiscTechWantToWorkWith                                                      NaN   \n",
              "ToolsTechHaveWorkedWith                                                     NaN   \n",
              "ToolsTechWantToWorkWith                                                     NaN   \n",
              "NEWCollabToolsHaveWorkedWith                                     PHPStorm;Xcode   \n",
              "NEWCollabToolsWantToWorkWith                                         Atom;Xcode   \n",
              "OpSys                                                                     MacOS   \n",
              "NEWStuck                      Call a coworker or friend;Visit Stack Overflow...   \n",
              "NEWSOSites                                                       Stack Overflow   \n",
              "SOVisitFreq                                              Multiple times per day   \n",
              "SOAccount                                                                   Yes   \n",
              "SOPartFreq                                      A few times per month or weekly   \n",
              "SOComm                                                          Yes, definitely   \n",
              "NEWOtherComms                                                                No   \n",
              "Age                                                             25-34 years old   \n",
              "Gender                                                                      Man   \n",
              "Trans                                                                        No   \n",
              "Sexuality                                               Straight / Heterosexual   \n",
              "Ethnicity                                          White or of European descent   \n",
              "Accessibility                                                 None of the above   \n",
              "MentalHealth                                                  None of the above   \n",
              "SurveyLength                                              Appropriate in length   \n",
              "SurveyEase                                                                 Easy   \n",
              "ConvertedCompYearly                                                     62268.0   \n",
              "\n",
              "                                                                              1  \\\n",
              "ResponseId                                                                    2   \n",
              "MainBranch                               I am a student who is learning to code   \n",
              "Employment                                                   Student, full-time   \n",
              "Country                                                             Netherlands   \n",
              "US_State                                                                    NaN   \n",
              "UK_Country                                                                  NaN   \n",
              "EdLevel                            Bachelor’s degree (B.A., B.S., B.Eng., etc.)   \n",
              "Age1stCode                                                        11 - 17 years   \n",
              "LearnCode                     Other online resources (ex: videos, blogs, etc...   \n",
              "YearsCode                                                                     7   \n",
              "YearsCodePro                                                                NaN   \n",
              "DevType                                                                     NaN   \n",
              "OrgSize                                                                     NaN   \n",
              "Currency                                                                    NaN   \n",
              "CompTotal                                                                   NaN   \n",
              "CompFreq                                                                    NaN   \n",
              "LanguageHaveWorkedWith                                        JavaScript;Python   \n",
              "LanguageWantToWorkWith                                                      NaN   \n",
              "DatabaseHaveWorkedWith                                               PostgreSQL   \n",
              "DatabaseWantToWorkWith                                                      NaN   \n",
              "PlatformHaveWorkedWith                                                      NaN   \n",
              "PlatformWantToWorkWith                                                      NaN   \n",
              "WebframeHaveWorkedWith                                     Angular;Flask;Vue.js   \n",
              "WebframeWantToWorkWith                                                      NaN   \n",
              "MiscTechHaveWorkedWith                                                  Cordova   \n",
              "MiscTechWantToWorkWith                                                      NaN   \n",
              "ToolsTechHaveWorkedWith                                         Docker;Git;Yarn   \n",
              "ToolsTechWantToWorkWith                                                     Git   \n",
              "NEWCollabToolsHaveWorkedWith          Android Studio;IntelliJ;Notepad++;PyCharm   \n",
              "NEWCollabToolsWantToWorkWith                                                NaN   \n",
              "OpSys                                                                   Windows   \n",
              "NEWStuck                                         Visit Stack Overflow;Google it   \n",
              "NEWSOSites                                                       Stack Overflow   \n",
              "SOVisitFreq                                               Daily or almost daily   \n",
              "SOAccount                                                                   Yes   \n",
              "SOPartFreq                                                Daily or almost daily   \n",
              "SOComm                                                          Yes, definitely   \n",
              "NEWOtherComms                                                                No   \n",
              "Age                                                             18-24 years old   \n",
              "Gender                                                                      Man   \n",
              "Trans                                                                        No   \n",
              "Sexuality                                               Straight / Heterosexual   \n",
              "Ethnicity                                          White or of European descent   \n",
              "Accessibility                                                 None of the above   \n",
              "MentalHealth                                                  None of the above   \n",
              "SurveyLength                                              Appropriate in length   \n",
              "SurveyEase                                                                 Easy   \n",
              "ConvertedCompYearly                                                         NaN   \n",
              "\n",
              "                                                                              2  \n",
              "ResponseId                                                                    3  \n",
              "MainBranch                    I am not primarily a developer, but I write co...  \n",
              "Employment                                                   Student, full-time  \n",
              "Country                                                      Russian Federation  \n",
              "US_State                                                                    NaN  \n",
              "UK_Country                                                                  NaN  \n",
              "EdLevel                            Bachelor’s degree (B.A., B.S., B.Eng., etc.)  \n",
              "Age1stCode                                                        11 - 17 years  \n",
              "LearnCode                     Other online resources (ex: videos, blogs, etc...  \n",
              "YearsCode                                                                   NaN  \n",
              "YearsCodePro                                                                NaN  \n",
              "DevType                                                                     NaN  \n",
              "OrgSize                                                                     NaN  \n",
              "Currency                                                                    NaN  \n",
              "CompTotal                                                                   NaN  \n",
              "CompFreq                                                                    NaN  \n",
              "LanguageHaveWorkedWith                                 Assembly;C;Python;R;Rust  \n",
              "LanguageWantToWorkWith                                        Julia;Python;Rust  \n",
              "DatabaseHaveWorkedWith                                                   SQLite  \n",
              "DatabaseWantToWorkWith                                                   SQLite  \n",
              "PlatformHaveWorkedWith                                                   Heroku  \n",
              "PlatformWantToWorkWith                                                      NaN  \n",
              "WebframeHaveWorkedWith                                                    Flask  \n",
              "WebframeWantToWorkWith                                                    Flask  \n",
              "MiscTechHaveWorkedWith                    NumPy;Pandas;TensorFlow;Torch/PyTorch  \n",
              "MiscTechWantToWorkWith              Keras;NumPy;Pandas;TensorFlow;Torch/PyTorch  \n",
              "ToolsTechHaveWorkedWith                                                     NaN  \n",
              "ToolsTechWantToWorkWith                                                     NaN  \n",
              "NEWCollabToolsHaveWorkedWith  IPython/Jupyter;PyCharm;RStudio;Sublime Text;V...  \n",
              "NEWCollabToolsWantToWorkWith  IPython/Jupyter;RStudio;Sublime Text;Visual St...  \n",
              "OpSys                                                                     MacOS  \n",
              "NEWStuck                      Visit Stack Overflow;Google it;Watch help / tu...  \n",
              "NEWSOSites                                        Stack Overflow;Stack Exchange  \n",
              "SOVisitFreq                                              Multiple times per day  \n",
              "SOAccount                                                                   Yes  \n",
              "SOPartFreq                                               Multiple times per day  \n",
              "SOComm                                                          Yes, definitely  \n",
              "NEWOtherComms                                                               Yes  \n",
              "Age                                                             18-24 years old  \n",
              "Gender                                                                      Man  \n",
              "Trans                                                                        No  \n",
              "Sexuality                                                     Prefer not to say  \n",
              "Ethnicity                                                     Prefer not to say  \n",
              "Accessibility                                                 None of the above  \n",
              "MentalHealth                                                  None of the above  \n",
              "SurveyLength                                              Appropriate in length  \n",
              "SurveyEase                                                                 Easy  \n",
              "ConvertedCompYearly                                                         NaN  "
            ]
          },
          "metadata": {},
          "execution_count": 12
        }
      ]
    },
    {
      "cell_type": "markdown",
      "source": [
        "#### Adattípusok ellenőrzése"
      ],
      "metadata": {
        "id": "0Dx0Mpw0CHcF"
      }
    },
    {
      "cell_type": "code",
      "source": [
        "df.dtypes"
      ],
      "metadata": {
        "colab": {
          "base_uri": "https://localhost:8080/"
        },
        "id": "racfn5uzCKvt",
        "outputId": "883f9e85-621d-45ff-a145-bb85cec20936"
      },
      "execution_count": null,
      "outputs": [
        {
          "output_type": "execute_result",
          "data": {
            "text/plain": [
              "ResponseId                        int64\n",
              "MainBranch                       object\n",
              "Employment                       object\n",
              "Country                          object\n",
              "US_State                         object\n",
              "UK_Country                       object\n",
              "EdLevel                          object\n",
              "Age1stCode                       object\n",
              "LearnCode                        object\n",
              "YearsCode                        object\n",
              "YearsCodePro                     object\n",
              "DevType                          object\n",
              "OrgSize                          object\n",
              "Currency                         object\n",
              "CompTotal                       float64\n",
              "CompFreq                         object\n",
              "LanguageHaveWorkedWith           object\n",
              "LanguageWantToWorkWith           object\n",
              "DatabaseHaveWorkedWith           object\n",
              "DatabaseWantToWorkWith           object\n",
              "PlatformHaveWorkedWith           object\n",
              "PlatformWantToWorkWith           object\n",
              "WebframeHaveWorkedWith           object\n",
              "WebframeWantToWorkWith           object\n",
              "MiscTechHaveWorkedWith           object\n",
              "MiscTechWantToWorkWith           object\n",
              "ToolsTechHaveWorkedWith          object\n",
              "ToolsTechWantToWorkWith          object\n",
              "NEWCollabToolsHaveWorkedWith     object\n",
              "NEWCollabToolsWantToWorkWith     object\n",
              "OpSys                            object\n",
              "NEWStuck                         object\n",
              "NEWSOSites                       object\n",
              "SOVisitFreq                      object\n",
              "SOAccount                        object\n",
              "SOPartFreq                       object\n",
              "SOComm                           object\n",
              "NEWOtherComms                    object\n",
              "Age                              object\n",
              "Gender                           object\n",
              "Trans                            object\n",
              "Sexuality                        object\n",
              "Ethnicity                        object\n",
              "Accessibility                    object\n",
              "MentalHealth                     object\n",
              "SurveyLength                     object\n",
              "SurveyEase                       object\n",
              "ConvertedCompYearly             float64\n",
              "dtype: object"
            ]
          },
          "metadata": {},
          "execution_count": 13
        }
      ]
    },
    {
      "cell_type": "code",
      "source": [
        "df.isna().sum().sum()"
      ],
      "metadata": {
        "colab": {
          "base_uri": "https://localhost:8080/"
        },
        "id": "xNR4Snh0Bh_R",
        "outputId": "601d0522-3359-4ffd-b59f-d112b0234ba1"
      },
      "execution_count": null,
      "outputs": [
        {
          "output_type": "execute_result",
          "data": {
            "text/plain": [
              "689972"
            ]
          },
          "metadata": {},
          "execution_count": 16
        }
      ]
    },
    {
      "cell_type": "code",
      "source": [
        "df.isna().sum().sort_values(ascending=False)"
      ],
      "metadata": {
        "colab": {
          "base_uri": "https://localhost:8080/"
        },
        "id": "dRFffIilCgN4",
        "outputId": "7ef0d56e-b3fb-4048-e39a-820bc93679fa"
      },
      "execution_count": null,
      "outputs": [
        {
          "output_type": "execute_result",
          "data": {
            "text/plain": [
              "UK_Country                      79021\n",
              "US_State                        68519\n",
              "MiscTechWantToWorkWith          45418\n",
              "PlatformWantToWorkWith          41820\n",
              "ConvertedCompYearly             36595\n",
              "MiscTechHaveWorkedWith          36384\n",
              "CompTotal                       36256\n",
              "WebframeWantToWorkWith          31344\n",
              "PlatformHaveWorkedWith          31304\n",
              "CompFreq                        31289\n",
              "DatabaseWantToWorkWith          25140\n",
              "OrgSize                         22713\n",
              "Currency                        22359\n",
              "YearsCodePro                    22223\n",
              "WebframeHaveWorkedWith          21732\n",
              "ToolsTechWantToWorkWith         17959\n",
              "DevType                         16955\n",
              "SOPartFreq                      15886\n",
              "DatabaseHaveWorkedWith          13893\n",
              "ToolsTechHaveWorkedWith         10902\n",
              "NEWCollabToolsWantToWorkWith    10417\n",
              "Sexuality                       10073\n",
              "LanguageWantToWorkWith           6618\n",
              "MentalHealth                     6519\n",
              "Accessibility                    5836\n",
              "Ethnicity                        3975\n",
              "Trans                            2761\n",
              "NEWCollabToolsHaveWorkedWith     2205\n",
              "YearsCode                        1798\n",
              "SurveyLength                     1728\n",
              "SurveyEase                       1491\n",
              "Gender                           1153\n",
              "SOComm                           1120\n",
              "LanguageHaveWorkedWith           1082\n",
              "Age                              1032\n",
              "SOVisitFreq                      1026\n",
              "SOAccount                         914\n",
              "NEWOtherComms                     611\n",
              "LearnCode                         476\n",
              "NEWStuck                          387\n",
              "EdLevel                           313\n",
              "NEWSOSites                        268\n",
              "Age1stCode                        196\n",
              "OpSys                             145\n",
              "Employment                        116\n",
              "MainBranch                          0\n",
              "Country                             0\n",
              "ResponseId                          0\n",
              "dtype: int64"
            ]
          },
          "metadata": {},
          "execution_count": 18
        }
      ]
    },
    {
      "cell_type": "code",
      "source": [
        "df.ConvertedCompYearly.describe()"
      ],
      "metadata": {
        "colab": {
          "base_uri": "https://localhost:8080/"
        },
        "id": "S4rKgkLWCxj9",
        "outputId": "62ca9b9e-b015-4e5f-bd4c-283703dc4823"
      },
      "execution_count": null,
      "outputs": [
        {
          "output_type": "execute_result",
          "data": {
            "text/plain": [
              "count    4.684400e+04\n",
              "mean     1.184262e+05\n",
              "std      5.272944e+05\n",
              "min      1.000000e+00\n",
              "25%      2.702500e+04\n",
              "50%      5.621100e+04\n",
              "75%      1.000000e+05\n",
              "max      4.524131e+07\n",
              "Name: ConvertedCompYearly, dtype: float64"
            ]
          },
          "metadata": {},
          "execution_count": 19
        }
      ]
    },
    {
      "cell_type": "markdown",
      "source": [
        "#### Selecting columns"
      ],
      "metadata": {
        "id": "HK9GWGxjDRVj"
      }
    },
    {
      "cell_type": "code",
      "source": [
        "df['Age'].head()"
      ],
      "metadata": {
        "colab": {
          "base_uri": "https://localhost:8080/"
        },
        "id": "Brqx8KnqDTpG",
        "outputId": "36f5eb4a-9cdc-4606-d6cf-bc5f82bfa919"
      },
      "execution_count": null,
      "outputs": [
        {
          "output_type": "execute_result",
          "data": {
            "text/plain": [
              "0    25-34 years old\n",
              "1    18-24 years old\n",
              "2    18-24 years old\n",
              "3    35-44 years old\n",
              "4    25-34 years old\n",
              "Name: Age, dtype: object"
            ]
          },
          "metadata": {},
          "execution_count": 20
        }
      ]
    },
    {
      "cell_type": "code",
      "source": [
        "df[['Age', 'MainBranch']].head()"
      ],
      "metadata": {
        "colab": {
          "base_uri": "https://localhost:8080/",
          "height": 206
        },
        "id": "MmLwsoZQDCg-",
        "outputId": "874a7076-ff8c-4445-e2c0-7f1c7b83c96a"
      },
      "execution_count": null,
      "outputs": [
        {
          "output_type": "execute_result",
          "data": {
            "text/html": [
              "\n",
              "  <div id=\"df-9d959a93-1a82-4f5d-a11d-0146d9d88a56\">\n",
              "    <div class=\"colab-df-container\">\n",
              "      <div>\n",
              "<style scoped>\n",
              "    .dataframe tbody tr th:only-of-type {\n",
              "        vertical-align: middle;\n",
              "    }\n",
              "\n",
              "    .dataframe tbody tr th {\n",
              "        vertical-align: top;\n",
              "    }\n",
              "\n",
              "    .dataframe thead th {\n",
              "        text-align: right;\n",
              "    }\n",
              "</style>\n",
              "<table border=\"1\" class=\"dataframe\">\n",
              "  <thead>\n",
              "    <tr style=\"text-align: right;\">\n",
              "      <th></th>\n",
              "      <th>Age</th>\n",
              "      <th>MainBranch</th>\n",
              "    </tr>\n",
              "  </thead>\n",
              "  <tbody>\n",
              "    <tr>\n",
              "      <th>0</th>\n",
              "      <td>25-34 years old</td>\n",
              "      <td>I am a developer by profession</td>\n",
              "    </tr>\n",
              "    <tr>\n",
              "      <th>1</th>\n",
              "      <td>18-24 years old</td>\n",
              "      <td>I am a student who is learning to code</td>\n",
              "    </tr>\n",
              "    <tr>\n",
              "      <th>2</th>\n",
              "      <td>18-24 years old</td>\n",
              "      <td>I am not primarily a developer, but I write co...</td>\n",
              "    </tr>\n",
              "    <tr>\n",
              "      <th>3</th>\n",
              "      <td>35-44 years old</td>\n",
              "      <td>I am a developer by profession</td>\n",
              "    </tr>\n",
              "    <tr>\n",
              "      <th>4</th>\n",
              "      <td>25-34 years old</td>\n",
              "      <td>I am a developer by profession</td>\n",
              "    </tr>\n",
              "  </tbody>\n",
              "</table>\n",
              "</div>\n",
              "      <button class=\"colab-df-convert\" onclick=\"convertToInteractive('df-9d959a93-1a82-4f5d-a11d-0146d9d88a56')\"\n",
              "              title=\"Convert this dataframe to an interactive table.\"\n",
              "              style=\"display:none;\">\n",
              "        \n",
              "  <svg xmlns=\"http://www.w3.org/2000/svg\" height=\"24px\"viewBox=\"0 0 24 24\"\n",
              "       width=\"24px\">\n",
              "    <path d=\"M0 0h24v24H0V0z\" fill=\"none\"/>\n",
              "    <path d=\"M18.56 5.44l.94 2.06.94-2.06 2.06-.94-2.06-.94-.94-2.06-.94 2.06-2.06.94zm-11 1L8.5 8.5l.94-2.06 2.06-.94-2.06-.94L8.5 2.5l-.94 2.06-2.06.94zm10 10l.94 2.06.94-2.06 2.06-.94-2.06-.94-.94-2.06-.94 2.06-2.06.94z\"/><path d=\"M17.41 7.96l-1.37-1.37c-.4-.4-.92-.59-1.43-.59-.52 0-1.04.2-1.43.59L10.3 9.45l-7.72 7.72c-.78.78-.78 2.05 0 2.83L4 21.41c.39.39.9.59 1.41.59.51 0 1.02-.2 1.41-.59l7.78-7.78 2.81-2.81c.8-.78.8-2.07 0-2.86zM5.41 20L4 18.59l7.72-7.72 1.47 1.35L5.41 20z\"/>\n",
              "  </svg>\n",
              "      </button>\n",
              "      \n",
              "  <style>\n",
              "    .colab-df-container {\n",
              "      display:flex;\n",
              "      flex-wrap:wrap;\n",
              "      gap: 12px;\n",
              "    }\n",
              "\n",
              "    .colab-df-convert {\n",
              "      background-color: #E8F0FE;\n",
              "      border: none;\n",
              "      border-radius: 50%;\n",
              "      cursor: pointer;\n",
              "      display: none;\n",
              "      fill: #1967D2;\n",
              "      height: 32px;\n",
              "      padding: 0 0 0 0;\n",
              "      width: 32px;\n",
              "    }\n",
              "\n",
              "    .colab-df-convert:hover {\n",
              "      background-color: #E2EBFA;\n",
              "      box-shadow: 0px 1px 2px rgba(60, 64, 67, 0.3), 0px 1px 3px 1px rgba(60, 64, 67, 0.15);\n",
              "      fill: #174EA6;\n",
              "    }\n",
              "\n",
              "    [theme=dark] .colab-df-convert {\n",
              "      background-color: #3B4455;\n",
              "      fill: #D2E3FC;\n",
              "    }\n",
              "\n",
              "    [theme=dark] .colab-df-convert:hover {\n",
              "      background-color: #434B5C;\n",
              "      box-shadow: 0px 1px 3px 1px rgba(0, 0, 0, 0.15);\n",
              "      filter: drop-shadow(0px 1px 2px rgba(0, 0, 0, 0.3));\n",
              "      fill: #FFFFFF;\n",
              "    }\n",
              "  </style>\n",
              "\n",
              "      <script>\n",
              "        const buttonEl =\n",
              "          document.querySelector('#df-9d959a93-1a82-4f5d-a11d-0146d9d88a56 button.colab-df-convert');\n",
              "        buttonEl.style.display =\n",
              "          google.colab.kernel.accessAllowed ? 'block' : 'none';\n",
              "\n",
              "        async function convertToInteractive(key) {\n",
              "          const element = document.querySelector('#df-9d959a93-1a82-4f5d-a11d-0146d9d88a56');\n",
              "          const dataTable =\n",
              "            await google.colab.kernel.invokeFunction('convertToInteractive',\n",
              "                                                     [key], {});\n",
              "          if (!dataTable) return;\n",
              "\n",
              "          const docLinkHtml = 'Like what you see? Visit the ' +\n",
              "            '<a target=\"_blank\" href=https://colab.research.google.com/notebooks/data_table.ipynb>data table notebook</a>'\n",
              "            + ' to learn more about interactive tables.';\n",
              "          element.innerHTML = '';\n",
              "          dataTable['output_type'] = 'display_data';\n",
              "          await google.colab.output.renderOutput(dataTable, element);\n",
              "          const docLink = document.createElement('div');\n",
              "          docLink.innerHTML = docLinkHtml;\n",
              "          element.appendChild(docLink);\n",
              "        }\n",
              "      </script>\n",
              "    </div>\n",
              "  </div>\n",
              "  "
            ],
            "text/plain": [
              "               Age                                         MainBranch\n",
              "0  25-34 years old                     I am a developer by profession\n",
              "1  18-24 years old             I am a student who is learning to code\n",
              "2  18-24 years old  I am not primarily a developer, but I write co...\n",
              "3  35-44 years old                     I am a developer by profession\n",
              "4  25-34 years old                     I am a developer by profession"
            ]
          },
          "metadata": {},
          "execution_count": 21
        }
      ]
    },
    {
      "cell_type": "code",
      "source": [
        "df['Age'].value_counts()"
      ],
      "metadata": {
        "colab": {
          "base_uri": "https://localhost:8080/"
        },
        "id": "MJmtFa3BDl3W",
        "outputId": "69eab2b8-cc6b-4fe9-c5d8-86c69532d8e3"
      },
      "execution_count": null,
      "outputs": [
        {
          "output_type": "execute_result",
          "data": {
            "text/plain": [
              "25-34 years old       32568\n",
              "18-24 years old       20993\n",
              "35-44 years old       15183\n",
              "45-54 years old        5472\n",
              "Under 18 years old     5376\n",
              "55-64 years old        1819\n",
              "Prefer not to say       575\n",
              "65 years or older       421\n",
              "Name: Age, dtype: int64"
            ]
          },
          "metadata": {},
          "execution_count": 22
        }
      ]
    },
    {
      "cell_type": "code",
      "source": [
        "df['Age'].isna().sum()"
      ],
      "metadata": {
        "colab": {
          "base_uri": "https://localhost:8080/"
        },
        "id": "wrdwN3axDsqm",
        "outputId": "74b3887a-21aa-474e-93aa-33043157af01"
      },
      "execution_count": null,
      "outputs": [
        {
          "output_type": "execute_result",
          "data": {
            "text/plain": [
              "1032"
            ]
          },
          "metadata": {},
          "execution_count": 23
        }
      ]
    },
    {
      "cell_type": "code",
      "source": [
        "df.Age.value_counts()"
      ],
      "metadata": {
        "colab": {
          "base_uri": "https://localhost:8080/"
        },
        "id": "0l7hk31vD1a_",
        "outputId": "db8ebb92-b4ef-4b27-f20a-8deb0f51a57a"
      },
      "execution_count": null,
      "outputs": [
        {
          "output_type": "execute_result",
          "data": {
            "text/plain": [
              "25-34 years old       32568\n",
              "18-24 years old       20993\n",
              "35-44 years old       15183\n",
              "45-54 years old        5472\n",
              "Under 18 years old     5376\n",
              "55-64 years old        1819\n",
              "Prefer not to say       575\n",
              "65 years or older       421\n",
              "Name: Age, dtype: int64"
            ]
          },
          "metadata": {},
          "execution_count": 24
        }
      ]
    },
    {
      "cell_type": "code",
      "source": [
        "df.iloc[0:10, 0:10]"
      ],
      "metadata": {
        "colab": {
          "base_uri": "https://localhost:8080/",
          "height": 580
        },
        "id": "VlZkvCPmD-NX",
        "outputId": "45419370-d4c6-4e42-dd16-98754c213e0e"
      },
      "execution_count": null,
      "outputs": [
        {
          "output_type": "execute_result",
          "data": {
            "text/html": [
              "\n",
              "  <div id=\"df-4c160f65-beac-4315-a585-f2344857ef98\">\n",
              "    <div class=\"colab-df-container\">\n",
              "      <div>\n",
              "<style scoped>\n",
              "    .dataframe tbody tr th:only-of-type {\n",
              "        vertical-align: middle;\n",
              "    }\n",
              "\n",
              "    .dataframe tbody tr th {\n",
              "        vertical-align: top;\n",
              "    }\n",
              "\n",
              "    .dataframe thead th {\n",
              "        text-align: right;\n",
              "    }\n",
              "</style>\n",
              "<table border=\"1\" class=\"dataframe\">\n",
              "  <thead>\n",
              "    <tr style=\"text-align: right;\">\n",
              "      <th></th>\n",
              "      <th>ResponseId</th>\n",
              "      <th>MainBranch</th>\n",
              "      <th>Employment</th>\n",
              "      <th>Country</th>\n",
              "      <th>US_State</th>\n",
              "      <th>UK_Country</th>\n",
              "      <th>EdLevel</th>\n",
              "      <th>Age1stCode</th>\n",
              "      <th>LearnCode</th>\n",
              "      <th>YearsCode</th>\n",
              "    </tr>\n",
              "  </thead>\n",
              "  <tbody>\n",
              "    <tr>\n",
              "      <th>0</th>\n",
              "      <td>1</td>\n",
              "      <td>I am a developer by profession</td>\n",
              "      <td>Independent contractor, freelancer, or self-em...</td>\n",
              "      <td>Slovakia</td>\n",
              "      <td>NaN</td>\n",
              "      <td>NaN</td>\n",
              "      <td>Secondary school (e.g. American high school, G...</td>\n",
              "      <td>18 - 24 years</td>\n",
              "      <td>Coding Bootcamp;Other online resources (ex: vi...</td>\n",
              "      <td>NaN</td>\n",
              "    </tr>\n",
              "    <tr>\n",
              "      <th>1</th>\n",
              "      <td>2</td>\n",
              "      <td>I am a student who is learning to code</td>\n",
              "      <td>Student, full-time</td>\n",
              "      <td>Netherlands</td>\n",
              "      <td>NaN</td>\n",
              "      <td>NaN</td>\n",
              "      <td>Bachelor’s degree (B.A., B.S., B.Eng., etc.)</td>\n",
              "      <td>11 - 17 years</td>\n",
              "      <td>Other online resources (ex: videos, blogs, etc...</td>\n",
              "      <td>7</td>\n",
              "    </tr>\n",
              "    <tr>\n",
              "      <th>2</th>\n",
              "      <td>3</td>\n",
              "      <td>I am not primarily a developer, but I write co...</td>\n",
              "      <td>Student, full-time</td>\n",
              "      <td>Russian Federation</td>\n",
              "      <td>NaN</td>\n",
              "      <td>NaN</td>\n",
              "      <td>Bachelor’s degree (B.A., B.S., B.Eng., etc.)</td>\n",
              "      <td>11 - 17 years</td>\n",
              "      <td>Other online resources (ex: videos, blogs, etc...</td>\n",
              "      <td>NaN</td>\n",
              "    </tr>\n",
              "    <tr>\n",
              "      <th>3</th>\n",
              "      <td>4</td>\n",
              "      <td>I am a developer by profession</td>\n",
              "      <td>Employed full-time</td>\n",
              "      <td>Austria</td>\n",
              "      <td>NaN</td>\n",
              "      <td>NaN</td>\n",
              "      <td>Master’s degree (M.A., M.S., M.Eng., MBA, etc.)</td>\n",
              "      <td>11 - 17 years</td>\n",
              "      <td>NaN</td>\n",
              "      <td>NaN</td>\n",
              "    </tr>\n",
              "    <tr>\n",
              "      <th>4</th>\n",
              "      <td>5</td>\n",
              "      <td>I am a developer by profession</td>\n",
              "      <td>Independent contractor, freelancer, or self-em...</td>\n",
              "      <td>United Kingdom of Great Britain and Northern I...</td>\n",
              "      <td>NaN</td>\n",
              "      <td>England</td>\n",
              "      <td>Master’s degree (M.A., M.S., M.Eng., MBA, etc.)</td>\n",
              "      <td>5 - 10 years</td>\n",
              "      <td>Friend or family member</td>\n",
              "      <td>17</td>\n",
              "    </tr>\n",
              "    <tr>\n",
              "      <th>5</th>\n",
              "      <td>6</td>\n",
              "      <td>I am a student who is learning to code</td>\n",
              "      <td>Student, part-time</td>\n",
              "      <td>United States of America</td>\n",
              "      <td>Georgia</td>\n",
              "      <td>NaN</td>\n",
              "      <td>Bachelor’s degree (B.A., B.S., B.Eng., etc.)</td>\n",
              "      <td>11 - 17 years</td>\n",
              "      <td>Other online resources (ex: videos, blogs, etc...</td>\n",
              "      <td>NaN</td>\n",
              "    </tr>\n",
              "    <tr>\n",
              "      <th>6</th>\n",
              "      <td>7</td>\n",
              "      <td>I code primarily as a hobby</td>\n",
              "      <td>I prefer not to say</td>\n",
              "      <td>United States of America</td>\n",
              "      <td>New Hampshire</td>\n",
              "      <td>NaN</td>\n",
              "      <td>Secondary school (e.g. American high school, G...</td>\n",
              "      <td>11 - 17 years</td>\n",
              "      <td>Other online resources (ex: videos, blogs, etc...</td>\n",
              "      <td>3</td>\n",
              "    </tr>\n",
              "    <tr>\n",
              "      <th>7</th>\n",
              "      <td>8</td>\n",
              "      <td>I am a student who is learning to code</td>\n",
              "      <td>Student, full-time</td>\n",
              "      <td>Malaysia</td>\n",
              "      <td>NaN</td>\n",
              "      <td>NaN</td>\n",
              "      <td>Bachelor’s degree (B.A., B.S., B.Eng., etc.)</td>\n",
              "      <td>11 - 17 years</td>\n",
              "      <td>School;Online Courses or Certification</td>\n",
              "      <td>4</td>\n",
              "    </tr>\n",
              "    <tr>\n",
              "      <th>8</th>\n",
              "      <td>9</td>\n",
              "      <td>I am a developer by profession</td>\n",
              "      <td>Employed part-time</td>\n",
              "      <td>India</td>\n",
              "      <td>NaN</td>\n",
              "      <td>NaN</td>\n",
              "      <td>Bachelor’s degree (B.A., B.S., B.Eng., etc.)</td>\n",
              "      <td>18 - 24 years</td>\n",
              "      <td>Coding Bootcamp</td>\n",
              "      <td>6</td>\n",
              "    </tr>\n",
              "    <tr>\n",
              "      <th>9</th>\n",
              "      <td>10</td>\n",
              "      <td>I am a developer by profession</td>\n",
              "      <td>Employed full-time</td>\n",
              "      <td>Sweden</td>\n",
              "      <td>NaN</td>\n",
              "      <td>NaN</td>\n",
              "      <td>Master’s degree (M.A., M.S., M.Eng., MBA, etc.)</td>\n",
              "      <td>11 - 17 years</td>\n",
              "      <td>School</td>\n",
              "      <td>7</td>\n",
              "    </tr>\n",
              "  </tbody>\n",
              "</table>\n",
              "</div>\n",
              "      <button class=\"colab-df-convert\" onclick=\"convertToInteractive('df-4c160f65-beac-4315-a585-f2344857ef98')\"\n",
              "              title=\"Convert this dataframe to an interactive table.\"\n",
              "              style=\"display:none;\">\n",
              "        \n",
              "  <svg xmlns=\"http://www.w3.org/2000/svg\" height=\"24px\"viewBox=\"0 0 24 24\"\n",
              "       width=\"24px\">\n",
              "    <path d=\"M0 0h24v24H0V0z\" fill=\"none\"/>\n",
              "    <path d=\"M18.56 5.44l.94 2.06.94-2.06 2.06-.94-2.06-.94-.94-2.06-.94 2.06-2.06.94zm-11 1L8.5 8.5l.94-2.06 2.06-.94-2.06-.94L8.5 2.5l-.94 2.06-2.06.94zm10 10l.94 2.06.94-2.06 2.06-.94-2.06-.94-.94-2.06-.94 2.06-2.06.94z\"/><path d=\"M17.41 7.96l-1.37-1.37c-.4-.4-.92-.59-1.43-.59-.52 0-1.04.2-1.43.59L10.3 9.45l-7.72 7.72c-.78.78-.78 2.05 0 2.83L4 21.41c.39.39.9.59 1.41.59.51 0 1.02-.2 1.41-.59l7.78-7.78 2.81-2.81c.8-.78.8-2.07 0-2.86zM5.41 20L4 18.59l7.72-7.72 1.47 1.35L5.41 20z\"/>\n",
              "  </svg>\n",
              "      </button>\n",
              "      \n",
              "  <style>\n",
              "    .colab-df-container {\n",
              "      display:flex;\n",
              "      flex-wrap:wrap;\n",
              "      gap: 12px;\n",
              "    }\n",
              "\n",
              "    .colab-df-convert {\n",
              "      background-color: #E8F0FE;\n",
              "      border: none;\n",
              "      border-radius: 50%;\n",
              "      cursor: pointer;\n",
              "      display: none;\n",
              "      fill: #1967D2;\n",
              "      height: 32px;\n",
              "      padding: 0 0 0 0;\n",
              "      width: 32px;\n",
              "    }\n",
              "\n",
              "    .colab-df-convert:hover {\n",
              "      background-color: #E2EBFA;\n",
              "      box-shadow: 0px 1px 2px rgba(60, 64, 67, 0.3), 0px 1px 3px 1px rgba(60, 64, 67, 0.15);\n",
              "      fill: #174EA6;\n",
              "    }\n",
              "\n",
              "    [theme=dark] .colab-df-convert {\n",
              "      background-color: #3B4455;\n",
              "      fill: #D2E3FC;\n",
              "    }\n",
              "\n",
              "    [theme=dark] .colab-df-convert:hover {\n",
              "      background-color: #434B5C;\n",
              "      box-shadow: 0px 1px 3px 1px rgba(0, 0, 0, 0.15);\n",
              "      filter: drop-shadow(0px 1px 2px rgba(0, 0, 0, 0.3));\n",
              "      fill: #FFFFFF;\n",
              "    }\n",
              "  </style>\n",
              "\n",
              "      <script>\n",
              "        const buttonEl =\n",
              "          document.querySelector('#df-4c160f65-beac-4315-a585-f2344857ef98 button.colab-df-convert');\n",
              "        buttonEl.style.display =\n",
              "          google.colab.kernel.accessAllowed ? 'block' : 'none';\n",
              "\n",
              "        async function convertToInteractive(key) {\n",
              "          const element = document.querySelector('#df-4c160f65-beac-4315-a585-f2344857ef98');\n",
              "          const dataTable =\n",
              "            await google.colab.kernel.invokeFunction('convertToInteractive',\n",
              "                                                     [key], {});\n",
              "          if (!dataTable) return;\n",
              "\n",
              "          const docLinkHtml = 'Like what you see? Visit the ' +\n",
              "            '<a target=\"_blank\" href=https://colab.research.google.com/notebooks/data_table.ipynb>data table notebook</a>'\n",
              "            + ' to learn more about interactive tables.';\n",
              "          element.innerHTML = '';\n",
              "          dataTable['output_type'] = 'display_data';\n",
              "          await google.colab.output.renderOutput(dataTable, element);\n",
              "          const docLink = document.createElement('div');\n",
              "          docLink.innerHTML = docLinkHtml;\n",
              "          element.appendChild(docLink);\n",
              "        }\n",
              "      </script>\n",
              "    </div>\n",
              "  </div>\n",
              "  "
            ],
            "text/plain": [
              "   ResponseId                                         MainBranch  \\\n",
              "0           1                     I am a developer by profession   \n",
              "1           2             I am a student who is learning to code   \n",
              "2           3  I am not primarily a developer, but I write co...   \n",
              "3           4                     I am a developer by profession   \n",
              "4           5                     I am a developer by profession   \n",
              "5           6             I am a student who is learning to code   \n",
              "6           7                        I code primarily as a hobby   \n",
              "7           8             I am a student who is learning to code   \n",
              "8           9                     I am a developer by profession   \n",
              "9          10                     I am a developer by profession   \n",
              "\n",
              "                                          Employment  \\\n",
              "0  Independent contractor, freelancer, or self-em...   \n",
              "1                                 Student, full-time   \n",
              "2                                 Student, full-time   \n",
              "3                                 Employed full-time   \n",
              "4  Independent contractor, freelancer, or self-em...   \n",
              "5                                 Student, part-time   \n",
              "6                                I prefer not to say   \n",
              "7                                 Student, full-time   \n",
              "8                                 Employed part-time   \n",
              "9                                 Employed full-time   \n",
              "\n",
              "                                             Country       US_State  \\\n",
              "0                                           Slovakia            NaN   \n",
              "1                                        Netherlands            NaN   \n",
              "2                                 Russian Federation            NaN   \n",
              "3                                            Austria            NaN   \n",
              "4  United Kingdom of Great Britain and Northern I...            NaN   \n",
              "5                           United States of America        Georgia   \n",
              "6                           United States of America  New Hampshire   \n",
              "7                                           Malaysia            NaN   \n",
              "8                                              India            NaN   \n",
              "9                                             Sweden            NaN   \n",
              "\n",
              "  UK_Country                                            EdLevel  \\\n",
              "0        NaN  Secondary school (e.g. American high school, G...   \n",
              "1        NaN       Bachelor’s degree (B.A., B.S., B.Eng., etc.)   \n",
              "2        NaN       Bachelor’s degree (B.A., B.S., B.Eng., etc.)   \n",
              "3        NaN    Master’s degree (M.A., M.S., M.Eng., MBA, etc.)   \n",
              "4    England    Master’s degree (M.A., M.S., M.Eng., MBA, etc.)   \n",
              "5        NaN       Bachelor’s degree (B.A., B.S., B.Eng., etc.)   \n",
              "6        NaN  Secondary school (e.g. American high school, G...   \n",
              "7        NaN       Bachelor’s degree (B.A., B.S., B.Eng., etc.)   \n",
              "8        NaN       Bachelor’s degree (B.A., B.S., B.Eng., etc.)   \n",
              "9        NaN    Master’s degree (M.A., M.S., M.Eng., MBA, etc.)   \n",
              "\n",
              "      Age1stCode                                          LearnCode YearsCode  \n",
              "0  18 - 24 years  Coding Bootcamp;Other online resources (ex: vi...       NaN  \n",
              "1  11 - 17 years  Other online resources (ex: videos, blogs, etc...         7  \n",
              "2  11 - 17 years  Other online resources (ex: videos, blogs, etc...       NaN  \n",
              "3  11 - 17 years                                                NaN       NaN  \n",
              "4   5 - 10 years                            Friend or family member        17  \n",
              "5  11 - 17 years  Other online resources (ex: videos, blogs, etc...       NaN  \n",
              "6  11 - 17 years  Other online resources (ex: videos, blogs, etc...         3  \n",
              "7  11 - 17 years             School;Online Courses or Certification         4  \n",
              "8  18 - 24 years                                    Coding Bootcamp         6  \n",
              "9  11 - 17 years                                             School         7  "
            ]
          },
          "metadata": {},
          "execution_count": 25
        }
      ]
    },
    {
      "cell_type": "code",
      "source": [
        "df.loc[:,['MainBranch']].head()"
      ],
      "metadata": {
        "colab": {
          "base_uri": "https://localhost:8080/",
          "height": 206
        },
        "id": "4M_byFtyEJU3",
        "outputId": "4140a12f-936b-461d-8025-dd636e9644ca"
      },
      "execution_count": null,
      "outputs": [
        {
          "output_type": "execute_result",
          "data": {
            "text/html": [
              "\n",
              "  <div id=\"df-286eee15-8248-4cee-96d4-772244e8cbd1\">\n",
              "    <div class=\"colab-df-container\">\n",
              "      <div>\n",
              "<style scoped>\n",
              "    .dataframe tbody tr th:only-of-type {\n",
              "        vertical-align: middle;\n",
              "    }\n",
              "\n",
              "    .dataframe tbody tr th {\n",
              "        vertical-align: top;\n",
              "    }\n",
              "\n",
              "    .dataframe thead th {\n",
              "        text-align: right;\n",
              "    }\n",
              "</style>\n",
              "<table border=\"1\" class=\"dataframe\">\n",
              "  <thead>\n",
              "    <tr style=\"text-align: right;\">\n",
              "      <th></th>\n",
              "      <th>MainBranch</th>\n",
              "    </tr>\n",
              "  </thead>\n",
              "  <tbody>\n",
              "    <tr>\n",
              "      <th>0</th>\n",
              "      <td>I am a developer by profession</td>\n",
              "    </tr>\n",
              "    <tr>\n",
              "      <th>1</th>\n",
              "      <td>I am a student who is learning to code</td>\n",
              "    </tr>\n",
              "    <tr>\n",
              "      <th>2</th>\n",
              "      <td>I am not primarily a developer, but I write co...</td>\n",
              "    </tr>\n",
              "    <tr>\n",
              "      <th>3</th>\n",
              "      <td>I am a developer by profession</td>\n",
              "    </tr>\n",
              "    <tr>\n",
              "      <th>4</th>\n",
              "      <td>I am a developer by profession</td>\n",
              "    </tr>\n",
              "  </tbody>\n",
              "</table>\n",
              "</div>\n",
              "      <button class=\"colab-df-convert\" onclick=\"convertToInteractive('df-286eee15-8248-4cee-96d4-772244e8cbd1')\"\n",
              "              title=\"Convert this dataframe to an interactive table.\"\n",
              "              style=\"display:none;\">\n",
              "        \n",
              "  <svg xmlns=\"http://www.w3.org/2000/svg\" height=\"24px\"viewBox=\"0 0 24 24\"\n",
              "       width=\"24px\">\n",
              "    <path d=\"M0 0h24v24H0V0z\" fill=\"none\"/>\n",
              "    <path d=\"M18.56 5.44l.94 2.06.94-2.06 2.06-.94-2.06-.94-.94-2.06-.94 2.06-2.06.94zm-11 1L8.5 8.5l.94-2.06 2.06-.94-2.06-.94L8.5 2.5l-.94 2.06-2.06.94zm10 10l.94 2.06.94-2.06 2.06-.94-2.06-.94-.94-2.06-.94 2.06-2.06.94z\"/><path d=\"M17.41 7.96l-1.37-1.37c-.4-.4-.92-.59-1.43-.59-.52 0-1.04.2-1.43.59L10.3 9.45l-7.72 7.72c-.78.78-.78 2.05 0 2.83L4 21.41c.39.39.9.59 1.41.59.51 0 1.02-.2 1.41-.59l7.78-7.78 2.81-2.81c.8-.78.8-2.07 0-2.86zM5.41 20L4 18.59l7.72-7.72 1.47 1.35L5.41 20z\"/>\n",
              "  </svg>\n",
              "      </button>\n",
              "      \n",
              "  <style>\n",
              "    .colab-df-container {\n",
              "      display:flex;\n",
              "      flex-wrap:wrap;\n",
              "      gap: 12px;\n",
              "    }\n",
              "\n",
              "    .colab-df-convert {\n",
              "      background-color: #E8F0FE;\n",
              "      border: none;\n",
              "      border-radius: 50%;\n",
              "      cursor: pointer;\n",
              "      display: none;\n",
              "      fill: #1967D2;\n",
              "      height: 32px;\n",
              "      padding: 0 0 0 0;\n",
              "      width: 32px;\n",
              "    }\n",
              "\n",
              "    .colab-df-convert:hover {\n",
              "      background-color: #E2EBFA;\n",
              "      box-shadow: 0px 1px 2px rgba(60, 64, 67, 0.3), 0px 1px 3px 1px rgba(60, 64, 67, 0.15);\n",
              "      fill: #174EA6;\n",
              "    }\n",
              "\n",
              "    [theme=dark] .colab-df-convert {\n",
              "      background-color: #3B4455;\n",
              "      fill: #D2E3FC;\n",
              "    }\n",
              "\n",
              "    [theme=dark] .colab-df-convert:hover {\n",
              "      background-color: #434B5C;\n",
              "      box-shadow: 0px 1px 3px 1px rgba(0, 0, 0, 0.15);\n",
              "      filter: drop-shadow(0px 1px 2px rgba(0, 0, 0, 0.3));\n",
              "      fill: #FFFFFF;\n",
              "    }\n",
              "  </style>\n",
              "\n",
              "      <script>\n",
              "        const buttonEl =\n",
              "          document.querySelector('#df-286eee15-8248-4cee-96d4-772244e8cbd1 button.colab-df-convert');\n",
              "        buttonEl.style.display =\n",
              "          google.colab.kernel.accessAllowed ? 'block' : 'none';\n",
              "\n",
              "        async function convertToInteractive(key) {\n",
              "          const element = document.querySelector('#df-286eee15-8248-4cee-96d4-772244e8cbd1');\n",
              "          const dataTable =\n",
              "            await google.colab.kernel.invokeFunction('convertToInteractive',\n",
              "                                                     [key], {});\n",
              "          if (!dataTable) return;\n",
              "\n",
              "          const docLinkHtml = 'Like what you see? Visit the ' +\n",
              "            '<a target=\"_blank\" href=https://colab.research.google.com/notebooks/data_table.ipynb>data table notebook</a>'\n",
              "            + ' to learn more about interactive tables.';\n",
              "          element.innerHTML = '';\n",
              "          dataTable['output_type'] = 'display_data';\n",
              "          await google.colab.output.renderOutput(dataTable, element);\n",
              "          const docLink = document.createElement('div');\n",
              "          docLink.innerHTML = docLinkHtml;\n",
              "          element.appendChild(docLink);\n",
              "        }\n",
              "      </script>\n",
              "    </div>\n",
              "  </div>\n",
              "  "
            ],
            "text/plain": [
              "                                          MainBranch\n",
              "0                     I am a developer by profession\n",
              "1             I am a student who is learning to code\n",
              "2  I am not primarily a developer, but I write co...\n",
              "3                     I am a developer by profession\n",
              "4                     I am a developer by profession"
            ]
          },
          "metadata": {},
          "execution_count": 26
        }
      ]
    },
    {
      "cell_type": "code",
      "source": [
        "df.loc[:,'MainBranch'].head(20)"
      ],
      "metadata": {
        "colab": {
          "base_uri": "https://localhost:8080/"
        },
        "id": "td2u0q_aEVjR",
        "outputId": "eb6d8ef1-447f-489d-ff90-293ae0366f2a"
      },
      "execution_count": null,
      "outputs": [
        {
          "output_type": "execute_result",
          "data": {
            "text/plain": [
              "0                        I am a developer by profession\n",
              "1                I am a student who is learning to code\n",
              "2     I am not primarily a developer, but I write co...\n",
              "3                        I am a developer by profession\n",
              "4                        I am a developer by profession\n",
              "5                I am a student who is learning to code\n",
              "6                           I code primarily as a hobby\n",
              "7                I am a student who is learning to code\n",
              "8                        I am a developer by profession\n",
              "9                        I am a developer by profession\n",
              "10                       I am a developer by profession\n",
              "11                       I am a developer by profession\n",
              "12                       I am a developer by profession\n",
              "13               I am a student who is learning to code\n",
              "14    I used to be a developer by profession, but no...\n",
              "15               I am a student who is learning to code\n",
              "16                       I am a developer by profession\n",
              "17                       I am a developer by profession\n",
              "18    I am not primarily a developer, but I write co...\n",
              "19    I used to be a developer by profession, but no...\n",
              "Name: MainBranch, dtype: object"
            ]
          },
          "metadata": {},
          "execution_count": 30
        }
      ]
    },
    {
      "cell_type": "code",
      "source": [
        "type(df.loc[:,['MainBranch']].head())"
      ],
      "metadata": {
        "colab": {
          "base_uri": "https://localhost:8080/"
        },
        "id": "WeDe2GIEEjIg",
        "outputId": "c82b0b77-7592-46d5-f732-a36fccecfa2d"
      },
      "execution_count": null,
      "outputs": [
        {
          "output_type": "execute_result",
          "data": {
            "text/plain": [
              "pandas.core.frame.DataFrame"
            ]
          },
          "metadata": {},
          "execution_count": 28
        }
      ]
    },
    {
      "cell_type": "code",
      "source": [
        "type(df.loc[:,'MainBranch'].head())"
      ],
      "metadata": {
        "colab": {
          "base_uri": "https://localhost:8080/"
        },
        "id": "4tZkCCjyEocR",
        "outputId": "f748e3c1-0b34-486a-d898-22037384795b"
      },
      "execution_count": null,
      "outputs": [
        {
          "output_type": "execute_result",
          "data": {
            "text/plain": [
              "pandas.core.series.Series"
            ]
          },
          "metadata": {},
          "execution_count": 29
        }
      ]
    },
    {
      "cell_type": "markdown",
      "source": [
        "#### Kiválasztás érték alapján"
      ],
      "metadata": {
        "id": "jzsOcOOpFB7r"
      }
    },
    {
      "cell_type": "code",
      "source": [
        "df[df['MainBranch']=='I am a student who is learning to code'].shape"
      ],
      "metadata": {
        "colab": {
          "base_uri": "https://localhost:8080/"
        },
        "id": "KObOqeQvErZx",
        "outputId": "ca2fe95a-ab7a-4b9b-859a-96a0eb320b42"
      },
      "execution_count": null,
      "outputs": [
        {
          "output_type": "execute_result",
          "data": {
            "text/plain": [
              "(12029, 48)"
            ]
          },
          "metadata": {},
          "execution_count": 34
        }
      ]
    },
    {
      "cell_type": "code",
      "source": [
        "df.MainBranch.value_counts()"
      ],
      "metadata": {
        "colab": {
          "base_uri": "https://localhost:8080/"
        },
        "id": "Y6qleZR_FJ9C",
        "outputId": "34af2567-44e9-4bbc-ed26-ad095367a592"
      },
      "execution_count": null,
      "outputs": [
        {
          "output_type": "execute_result",
          "data": {
            "text/plain": [
              "I am a developer by profession                                                   58153\n",
              "I am a student who is learning to code                                           12029\n",
              "I am not primarily a developer, but I write code sometimes as part of my work     6578\n",
              "I code primarily as a hobby                                                       4929\n",
              "I used to be a developer by profession, but no longer am                          1237\n",
              "None of these                                                                      513\n",
              "Name: MainBranch, dtype: int64"
            ]
          },
          "metadata": {},
          "execution_count": 35
        }
      ]
    },
    {
      "cell_type": "code",
      "source": [
        "df.Gender.value_counts()"
      ],
      "metadata": {
        "colab": {
          "base_uri": "https://localhost:8080/"
        },
        "id": "lHlHM_w1FbcC",
        "outputId": "006ef583-9d77-45f2-da49-ecc198a83714"
      },
      "execution_count": null,
      "outputs": [
        {
          "output_type": "execute_result",
          "data": {
            "text/plain": [
              "Man                                                                                   74817\n",
              "Woman                                                                                  4120\n",
              "Prefer not to say                                                                      1442\n",
              "Non-binary, genderqueer, or gender non-conforming                                       690\n",
              "Or, in your own words:                                                                  413\n",
              "Man;Or, in your own words:                                                              268\n",
              "Man;Non-binary, genderqueer, or gender non-conforming                                   252\n",
              "Woman;Non-binary, genderqueer, or gender non-conforming                                 147\n",
              "Man;Woman                                                                                41\n",
              "Non-binary, genderqueer, or gender non-conforming;Or, in your own words:                 21\n",
              "Man;Woman;Non-binary, genderqueer, or gender non-conforming                              21\n",
              "Man;Woman;Non-binary, genderqueer, or gender non-conforming;Or, in your own words:       17\n",
              "Woman;Or, in your own words:                                                             16\n",
              "Man;Non-binary, genderqueer, or gender non-conforming;Or, in your own words:             11\n",
              "Woman;Non-binary, genderqueer, or gender non-conforming;Or, in your own words:            9\n",
              "Man;Woman;Or, in your own words:                                                          1\n",
              "Name: Gender, dtype: int64"
            ]
          },
          "metadata": {},
          "execution_count": 36
        }
      ]
    },
    {
      "cell_type": "code",
      "source": [
        "df[(df['MainBranch']=='I am a student who is learning to code') & (df['Gender']=='Woman')].shape"
      ],
      "metadata": {
        "colab": {
          "base_uri": "https://localhost:8080/"
        },
        "id": "ccS5BTAMFicK",
        "outputId": "2a7bfb68-a6ef-4965-f881-8440c8ad70fa"
      },
      "execution_count": null,
      "outputs": [
        {
          "output_type": "execute_result",
          "data": {
            "text/plain": [
              "(864, 48)"
            ]
          },
          "metadata": {},
          "execution_count": 38
        }
      ]
    },
    {
      "cell_type": "code",
      "source": [
        "df[df['Gender'].isin(['Woman', 'Non-binary, genderqueer, or gender non-conforming'])].shape"
      ],
      "metadata": {
        "colab": {
          "base_uri": "https://localhost:8080/"
        },
        "id": "ZDRCMDZkGClc",
        "outputId": "64b60ade-41d7-4f7f-cb72-a9853508cb45"
      },
      "execution_count": null,
      "outputs": [
        {
          "output_type": "execute_result",
          "data": {
            "text/plain": [
              "(4810, 48)"
            ]
          },
          "metadata": {},
          "execution_count": 46
        }
      ]
    },
    {
      "cell_type": "code",
      "source": [
        "df[~df['Gender'].isin(['Woman', 'Non-binary, genderqueer, or gender non-conforming'])].shape"
      ],
      "metadata": {
        "colab": {
          "base_uri": "https://localhost:8080/"
        },
        "id": "QuNlcXfEGOJk",
        "outputId": "77c32cda-321f-4bd8-a220-d8df8721369f"
      },
      "execution_count": null,
      "outputs": [
        {
          "output_type": "execute_result",
          "data": {
            "text/plain": [
              "(78629, 48)"
            ]
          },
          "metadata": {},
          "execution_count": 47
        }
      ]
    },
    {
      "cell_type": "markdown",
      "source": [
        "#### Duplázott sorok törlése"
      ],
      "metadata": {
        "id": "bOIYl7MDHMY_"
      }
    },
    {
      "cell_type": "code",
      "source": [
        "df.drop_duplicates(inplace=True)\n",
        "df.shape"
      ],
      "metadata": {
        "colab": {
          "base_uri": "https://localhost:8080/"
        },
        "id": "TDlfAKRnHFJ0",
        "outputId": "43227a37-ddb2-4445-9527-d040f9f22452"
      },
      "execution_count": null,
      "outputs": [
        {
          "output_type": "execute_result",
          "data": {
            "text/plain": [
              "(83439, 48)"
            ]
          },
          "metadata": {},
          "execution_count": 51
        }
      ]
    },
    {
      "cell_type": "markdown",
      "source": [
        "#### Üres értékek sorainak törlése? (Óvatosan, általában nem ajánlott gondolkodás nélkül)"
      ],
      "metadata": {
        "id": "RIhBhSWPHm4g"
      }
    },
    {
      "cell_type": "code",
      "source": [
        "df = df[~df['Employment'].isna()]"
      ],
      "metadata": {
        "id": "VTELY6cBHUnM"
      },
      "execution_count": null,
      "outputs": []
    },
    {
      "cell_type": "code",
      "source": [
        "df.shape"
      ],
      "metadata": {
        "colab": {
          "base_uri": "https://localhost:8080/"
        },
        "id": "badzuotCH121",
        "outputId": "5b693147-f3e7-4656-bec7-42e6a71f8b69"
      },
      "execution_count": null,
      "outputs": [
        {
          "output_type": "execute_result",
          "data": {
            "text/plain": [
              "(83323, 48)"
            ]
          },
          "metadata": {},
          "execution_count": 62
        }
      ]
    },
    {
      "cell_type": "code",
      "source": [
        ""
      ],
      "metadata": {
        "id": "KoNcJTduIsYj"
      },
      "execution_count": null,
      "outputs": []
    }
  ]
}