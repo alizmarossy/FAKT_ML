{
  "nbformat": 4,
  "nbformat_minor": 0,
  "metadata": {
    "colab": {
      "name": "hatodik miniprojekt.ipynb",
      "provenance": [],
      "authorship_tag": "ABX9TyPT+s9/QWYoJmBICn0j7SCx",
      "include_colab_link": true
    },
    "kernelspec": {
      "name": "python3",
      "display_name": "Python 3"
    },
    "language_info": {
      "name": "python"
    }
  },
  "cells": [
    {
      "cell_type": "markdown",
      "metadata": {
        "id": "view-in-github",
        "colab_type": "text"
      },
      "source": [
        "<a href=\"https://colab.research.google.com/github/alizmarossy/FAKT_ML/blob/main/hatodik_miniprojekt.ipynb\" target=\"_parent\"><img src=\"https://colab.research.google.com/assets/colab-badge.svg\" alt=\"Open In Colab\"/></a>"
      ]
    },
    {
      "cell_type": "markdown",
      "source": [
        "#Tőzsde predikció rekurrens hálóval"
      ],
      "metadata": {
        "id": "qGwccnBPEbNf"
      }
    },
    {
      "cell_type": "markdown",
      "source": [
        "A házi projektet a \n",
        "\n",
        "https://towardsdatascience.com/predicting-stock-prices-using-a-keras-lstm-model-4225457f0233\n",
        "\n",
        "oldal útmutatása alapján készítem el."
      ],
      "metadata": {
        "id": "lUKICJrCGFsM"
      }
    },
    {
      "cell_type": "markdown",
      "source": [
        "##Szükséges packagek importálása"
      ],
      "metadata": {
        "id": "w4QDa-BRFXFq"
      }
    },
    {
      "cell_type": "code",
      "execution_count": 15,
      "metadata": {
        "id": "Lg5mqc5jDAAl"
      },
      "outputs": [],
      "source": [
        "import numpy as np\n",
        "import matplotlib.pyplot as plt\n",
        "import pandas as pd\n",
        "from keras.models import Sequential\n",
        "from keras.layers import LSTM\n",
        "from keras.layers import Dropout\n",
        "from keras.layers import Dense"
      ]
    },
    {
      "cell_type": "markdown",
      "source": [
        "##Adattábla betöltése és vizsgálata"
      ],
      "metadata": {
        "id": "UKIUOjZkEZXc"
      }
    },
    {
      "cell_type": "markdown",
      "source": [
        "Tata Global Beverage legutóbbi részvényárainak vizsgálata"
      ],
      "metadata": {
        "id": "2zmh3NUiF_wc"
      }
    },
    {
      "cell_type": "code",
      "source": [
        "url = 'https://raw.githubusercontent.com/mwitiderrick/stockprice/master/NSE-TATAGLOBAL.csv'\n",
        "dataset_train = pd.read_csv(url)\n",
        "training_set = dataset_train.iloc[:, 1:2].values"
      ],
      "metadata": {
        "id": "3cie1Hu9FceI"
      },
      "execution_count": 2,
      "outputs": []
    },
    {
      "cell_type": "code",
      "source": [
        "dataset_train.head().T"
      ],
      "metadata": {
        "colab": {
          "base_uri": "https://localhost:8080/",
          "height": 300
        },
        "id": "zq1I2KnaFsKJ",
        "outputId": "2aa95d41-ecf9-4012-f562-093beac845fa"
      },
      "execution_count": 3,
      "outputs": [
        {
          "output_type": "execute_result",
          "data": {
            "text/plain": [
              "                               0           1           2           3  \\\n",
              "Date                  2018-09-28  2018-09-27  2018-09-26  2018-09-25   \n",
              "Open                      234.05      234.55       240.0       233.3   \n",
              "High                      235.95       236.8       240.0      236.75   \n",
              "Low                        230.2       231.1       232.5       232.0   \n",
              "Last                       233.5       233.8       235.0      236.25   \n",
              "Close                     233.75      233.25      234.25       236.1   \n",
              "Total Trade Quantity     3069914     5082859     2240909     2349368   \n",
              "Turnover (Lacs)          7162.35    11859.95      5248.6      5503.9   \n",
              "\n",
              "                               4  \n",
              "Date                  2018-09-24  \n",
              "Open                      233.55  \n",
              "High                       239.2  \n",
              "Low                       230.75  \n",
              "Last                       234.0  \n",
              "Close                      233.3  \n",
              "Total Trade Quantity     3423509  \n",
              "Turnover (Lacs)          7999.55  "
            ],
            "text/html": [
              "\n",
              "  <div id=\"df-de6d00e4-1992-4bdb-be73-77f9bf357843\">\n",
              "    <div class=\"colab-df-container\">\n",
              "      <div>\n",
              "<style scoped>\n",
              "    .dataframe tbody tr th:only-of-type {\n",
              "        vertical-align: middle;\n",
              "    }\n",
              "\n",
              "    .dataframe tbody tr th {\n",
              "        vertical-align: top;\n",
              "    }\n",
              "\n",
              "    .dataframe thead th {\n",
              "        text-align: right;\n",
              "    }\n",
              "</style>\n",
              "<table border=\"1\" class=\"dataframe\">\n",
              "  <thead>\n",
              "    <tr style=\"text-align: right;\">\n",
              "      <th></th>\n",
              "      <th>0</th>\n",
              "      <th>1</th>\n",
              "      <th>2</th>\n",
              "      <th>3</th>\n",
              "      <th>4</th>\n",
              "    </tr>\n",
              "  </thead>\n",
              "  <tbody>\n",
              "    <tr>\n",
              "      <th>Date</th>\n",
              "      <td>2018-09-28</td>\n",
              "      <td>2018-09-27</td>\n",
              "      <td>2018-09-26</td>\n",
              "      <td>2018-09-25</td>\n",
              "      <td>2018-09-24</td>\n",
              "    </tr>\n",
              "    <tr>\n",
              "      <th>Open</th>\n",
              "      <td>234.05</td>\n",
              "      <td>234.55</td>\n",
              "      <td>240.0</td>\n",
              "      <td>233.3</td>\n",
              "      <td>233.55</td>\n",
              "    </tr>\n",
              "    <tr>\n",
              "      <th>High</th>\n",
              "      <td>235.95</td>\n",
              "      <td>236.8</td>\n",
              "      <td>240.0</td>\n",
              "      <td>236.75</td>\n",
              "      <td>239.2</td>\n",
              "    </tr>\n",
              "    <tr>\n",
              "      <th>Low</th>\n",
              "      <td>230.2</td>\n",
              "      <td>231.1</td>\n",
              "      <td>232.5</td>\n",
              "      <td>232.0</td>\n",
              "      <td>230.75</td>\n",
              "    </tr>\n",
              "    <tr>\n",
              "      <th>Last</th>\n",
              "      <td>233.5</td>\n",
              "      <td>233.8</td>\n",
              "      <td>235.0</td>\n",
              "      <td>236.25</td>\n",
              "      <td>234.0</td>\n",
              "    </tr>\n",
              "    <tr>\n",
              "      <th>Close</th>\n",
              "      <td>233.75</td>\n",
              "      <td>233.25</td>\n",
              "      <td>234.25</td>\n",
              "      <td>236.1</td>\n",
              "      <td>233.3</td>\n",
              "    </tr>\n",
              "    <tr>\n",
              "      <th>Total Trade Quantity</th>\n",
              "      <td>3069914</td>\n",
              "      <td>5082859</td>\n",
              "      <td>2240909</td>\n",
              "      <td>2349368</td>\n",
              "      <td>3423509</td>\n",
              "    </tr>\n",
              "    <tr>\n",
              "      <th>Turnover (Lacs)</th>\n",
              "      <td>7162.35</td>\n",
              "      <td>11859.95</td>\n",
              "      <td>5248.6</td>\n",
              "      <td>5503.9</td>\n",
              "      <td>7999.55</td>\n",
              "    </tr>\n",
              "  </tbody>\n",
              "</table>\n",
              "</div>\n",
              "      <button class=\"colab-df-convert\" onclick=\"convertToInteractive('df-de6d00e4-1992-4bdb-be73-77f9bf357843')\"\n",
              "              title=\"Convert this dataframe to an interactive table.\"\n",
              "              style=\"display:none;\">\n",
              "        \n",
              "  <svg xmlns=\"http://www.w3.org/2000/svg\" height=\"24px\"viewBox=\"0 0 24 24\"\n",
              "       width=\"24px\">\n",
              "    <path d=\"M0 0h24v24H0V0z\" fill=\"none\"/>\n",
              "    <path d=\"M18.56 5.44l.94 2.06.94-2.06 2.06-.94-2.06-.94-.94-2.06-.94 2.06-2.06.94zm-11 1L8.5 8.5l.94-2.06 2.06-.94-2.06-.94L8.5 2.5l-.94 2.06-2.06.94zm10 10l.94 2.06.94-2.06 2.06-.94-2.06-.94-.94-2.06-.94 2.06-2.06.94z\"/><path d=\"M17.41 7.96l-1.37-1.37c-.4-.4-.92-.59-1.43-.59-.52 0-1.04.2-1.43.59L10.3 9.45l-7.72 7.72c-.78.78-.78 2.05 0 2.83L4 21.41c.39.39.9.59 1.41.59.51 0 1.02-.2 1.41-.59l7.78-7.78 2.81-2.81c.8-.78.8-2.07 0-2.86zM5.41 20L4 18.59l7.72-7.72 1.47 1.35L5.41 20z\"/>\n",
              "  </svg>\n",
              "      </button>\n",
              "      \n",
              "  <style>\n",
              "    .colab-df-container {\n",
              "      display:flex;\n",
              "      flex-wrap:wrap;\n",
              "      gap: 12px;\n",
              "    }\n",
              "\n",
              "    .colab-df-convert {\n",
              "      background-color: #E8F0FE;\n",
              "      border: none;\n",
              "      border-radius: 50%;\n",
              "      cursor: pointer;\n",
              "      display: none;\n",
              "      fill: #1967D2;\n",
              "      height: 32px;\n",
              "      padding: 0 0 0 0;\n",
              "      width: 32px;\n",
              "    }\n",
              "\n",
              "    .colab-df-convert:hover {\n",
              "      background-color: #E2EBFA;\n",
              "      box-shadow: 0px 1px 2px rgba(60, 64, 67, 0.3), 0px 1px 3px 1px rgba(60, 64, 67, 0.15);\n",
              "      fill: #174EA6;\n",
              "    }\n",
              "\n",
              "    [theme=dark] .colab-df-convert {\n",
              "      background-color: #3B4455;\n",
              "      fill: #D2E3FC;\n",
              "    }\n",
              "\n",
              "    [theme=dark] .colab-df-convert:hover {\n",
              "      background-color: #434B5C;\n",
              "      box-shadow: 0px 1px 3px 1px rgba(0, 0, 0, 0.15);\n",
              "      filter: drop-shadow(0px 1px 2px rgba(0, 0, 0, 0.3));\n",
              "      fill: #FFFFFF;\n",
              "    }\n",
              "  </style>\n",
              "\n",
              "      <script>\n",
              "        const buttonEl =\n",
              "          document.querySelector('#df-de6d00e4-1992-4bdb-be73-77f9bf357843 button.colab-df-convert');\n",
              "        buttonEl.style.display =\n",
              "          google.colab.kernel.accessAllowed ? 'block' : 'none';\n",
              "\n",
              "        async function convertToInteractive(key) {\n",
              "          const element = document.querySelector('#df-de6d00e4-1992-4bdb-be73-77f9bf357843');\n",
              "          const dataTable =\n",
              "            await google.colab.kernel.invokeFunction('convertToInteractive',\n",
              "                                                     [key], {});\n",
              "          if (!dataTable) return;\n",
              "\n",
              "          const docLinkHtml = 'Like what you see? Visit the ' +\n",
              "            '<a target=\"_blank\" href=https://colab.research.google.com/notebooks/data_table.ipynb>data table notebook</a>'\n",
              "            + ' to learn more about interactive tables.';\n",
              "          element.innerHTML = '';\n",
              "          dataTable['output_type'] = 'display_data';\n",
              "          await google.colab.output.renderOutput(dataTable, element);\n",
              "          const docLink = document.createElement('div');\n",
              "          docLink.innerHTML = docLinkHtml;\n",
              "          element.appendChild(docLink);\n",
              "        }\n",
              "      </script>\n",
              "    </div>\n",
              "  </div>\n",
              "  "
            ]
          },
          "metadata": {},
          "execution_count": 3
        }
      ]
    },
    {
      "cell_type": "code",
      "source": [
        "dataset_train.isna().sum()\n",
        "#milyen kellemes kis dataset"
      ],
      "metadata": {
        "colab": {
          "base_uri": "https://localhost:8080/"
        },
        "id": "qbsdfCLqFciF",
        "outputId": "b759a98f-c68c-4b8a-a098-27434d7fa076"
      },
      "execution_count": 6,
      "outputs": [
        {
          "output_type": "execute_result",
          "data": {
            "text/plain": [
              "Date                    0\n",
              "Open                    0\n",
              "High                    0\n",
              "Low                     0\n",
              "Last                    0\n",
              "Close                   0\n",
              "Total Trade Quantity    0\n",
              "Turnover (Lacs)         0\n",
              "dtype: int64"
            ]
          },
          "metadata": {},
          "execution_count": 6
        }
      ]
    },
    {
      "cell_type": "code",
      "source": [
        "dataset_train.columns"
      ],
      "metadata": {
        "colab": {
          "base_uri": "https://localhost:8080/"
        },
        "id": "EqJmEm4DFcld",
        "outputId": "4023245a-7dcd-40ea-eb59-c7361581b5c4"
      },
      "execution_count": 10,
      "outputs": [
        {
          "output_type": "execute_result",
          "data": {
            "text/plain": [
              "Index(['Date', 'Open', 'High', 'Low', 'Last', 'Close', 'Total Trade Quantity',\n",
              "       'Turnover (Lacs)'],\n",
              "      dtype='object')"
            ]
          },
          "metadata": {},
          "execution_count": 10
        }
      ]
    },
    {
      "cell_type": "markdown",
      "source": [
        "##Adattábla formázása"
      ],
      "metadata": {
        "id": "OGR-zpfjFcoq"
      }
    },
    {
      "cell_type": "markdown",
      "source": [
        "###Normalizálás"
      ],
      "metadata": {
        "id": "K9hXhOAnFcrm"
      }
    },
    {
      "cell_type": "code",
      "source": [
        "from sklearn.preprocessing import MinMaxScaler\n",
        "sc = MinMaxScaler(feature_range=(0,1))\n",
        "training_set_scaled = sc.fit_transform(training_set)"
      ],
      "metadata": {
        "id": "hPISmrxZFcuQ"
      },
      "execution_count": 11,
      "outputs": []
    },
    {
      "cell_type": "markdown",
      "source": [
        "###Késleltetés beépítése"
      ],
      "metadata": {
        "id": "PTi6Mu2RFcxS"
      }
    },
    {
      "cell_type": "code",
      "source": [
        "X_train = []\n",
        "y_train = []\n",
        "for i in range(60, 2035):\n",
        "  X_train.append(training_set_scaled[i-60:i, 0])\n",
        "  y_train.append(training_set_scaled[i, 0])\n",
        "X_train, y_train = np.array(X_train), np.array(y_train)\n",
        "Y_train = np.reshape(X_train, (X_train.shape[0], X_train.shape[1], 1))"
      ],
      "metadata": {
        "id": "60KWjYn3Fc3F"
      },
      "execution_count": 14,
      "outputs": []
    },
    {
      "cell_type": "markdown",
      "source": [
        "##LSTM modell megépítése"
      ],
      "metadata": {
        "id": "aH4ze8xAFc6L"
      }
    },
    {
      "cell_type": "code",
      "source": [
        "model = Sequential()\n",
        "model.add(LSTM(units=50,return_sequences=True,input_shape=(X_train.shape[1], 1)))\n",
        "model.add(Dropout(0.2))\n",
        "model.add(LSTM(units=50,return_sequences=True))\n",
        "model.add(Dropout(0.2))\n",
        "model.add(LSTM(units=50,return_sequences=True))\n",
        "model.add(Dropout(0.2))\n",
        "model.add(LSTM(units=50))\n",
        "model.add(Dropout(0.2))\n",
        "model.add(Dense(units=1))\n",
        "model.compile(optimizer='adam',loss='mean_squared_error')\n",
        "model.fit(X_train,y_train,epochs=100,batch_size=32)"
      ],
      "metadata": {
        "colab": {
          "base_uri": "https://localhost:8080/"
        },
        "id": "1FssETuzFc9n",
        "outputId": "a15472de-9fc0-4f1f-f587-7b875257a2b8"
      },
      "execution_count": 16,
      "outputs": [
        {
          "output_type": "stream",
          "name": "stdout",
          "text": [
            "Epoch 1/100\n",
            "62/62 [==============================] - 15s 121ms/step - loss: 0.0088\n",
            "Epoch 2/100\n",
            "62/62 [==============================] - 7s 120ms/step - loss: 0.0031\n",
            "Epoch 3/100\n",
            "62/62 [==============================] - 7s 121ms/step - loss: 0.0026\n",
            "Epoch 4/100\n",
            "62/62 [==============================] - 7s 121ms/step - loss: 0.0026\n",
            "Epoch 5/100\n",
            "62/62 [==============================] - 8s 133ms/step - loss: 0.0029\n",
            "Epoch 6/100\n",
            "62/62 [==============================] - 8s 128ms/step - loss: 0.0023\n",
            "Epoch 7/100\n",
            "62/62 [==============================] - 7s 121ms/step - loss: 0.0021\n",
            "Epoch 8/100\n",
            "62/62 [==============================] - 7s 120ms/step - loss: 0.0019\n",
            "Epoch 9/100\n",
            "62/62 [==============================] - 7s 119ms/step - loss: 0.0019\n",
            "Epoch 10/100\n",
            "62/62 [==============================] - 7s 119ms/step - loss: 0.0017\n",
            "Epoch 11/100\n",
            "62/62 [==============================] - 8s 121ms/step - loss: 0.0020\n",
            "Epoch 12/100\n",
            "62/62 [==============================] - 8s 128ms/step - loss: 0.0017\n",
            "Epoch 13/100\n",
            "62/62 [==============================] - 7s 120ms/step - loss: 0.0022\n",
            "Epoch 14/100\n",
            "62/62 [==============================] - 7s 121ms/step - loss: 0.0016\n",
            "Epoch 15/100\n",
            "62/62 [==============================] - 7s 120ms/step - loss: 0.0016\n",
            "Epoch 16/100\n",
            "62/62 [==============================] - 7s 119ms/step - loss: 0.0016\n",
            "Epoch 17/100\n",
            "62/62 [==============================] - 7s 120ms/step - loss: 0.0015\n",
            "Epoch 18/100\n",
            "62/62 [==============================] - 8s 122ms/step - loss: 0.0015\n",
            "Epoch 19/100\n",
            "62/62 [==============================] - 8s 122ms/step - loss: 0.0014\n",
            "Epoch 20/100\n",
            "62/62 [==============================] - 8s 122ms/step - loss: 0.0015\n",
            "Epoch 21/100\n",
            "62/62 [==============================] - 7s 121ms/step - loss: 0.0013\n",
            "Epoch 22/100\n",
            "62/62 [==============================] - 7s 121ms/step - loss: 0.0015\n",
            "Epoch 23/100\n",
            "62/62 [==============================] - 8s 135ms/step - loss: 0.0014\n",
            "Epoch 24/100\n",
            "62/62 [==============================] - 7s 120ms/step - loss: 0.0012\n",
            "Epoch 25/100\n",
            "62/62 [==============================] - 8s 121ms/step - loss: 0.0012\n",
            "Epoch 26/100\n",
            "62/62 [==============================] - 7s 120ms/step - loss: 0.0012\n",
            "Epoch 27/100\n",
            "62/62 [==============================] - 7s 121ms/step - loss: 0.0012\n",
            "Epoch 28/100\n",
            "62/62 [==============================] - 7s 120ms/step - loss: 0.0012\n",
            "Epoch 29/100\n",
            "62/62 [==============================] - 7s 121ms/step - loss: 0.0011\n",
            "Epoch 30/100\n",
            "62/62 [==============================] - 7s 121ms/step - loss: 0.0011\n",
            "Epoch 31/100\n",
            "62/62 [==============================] - 8s 121ms/step - loss: 0.0011\n",
            "Epoch 32/100\n",
            "62/62 [==============================] - 7s 120ms/step - loss: 0.0013\n",
            "Epoch 33/100\n",
            "62/62 [==============================] - 7s 120ms/step - loss: 0.0012\n",
            "Epoch 34/100\n",
            "62/62 [==============================] - 8s 121ms/step - loss: 9.4569e-04\n",
            "Epoch 35/100\n",
            "62/62 [==============================] - 7s 121ms/step - loss: 0.0010\n",
            "Epoch 36/100\n",
            "62/62 [==============================] - 8s 122ms/step - loss: 0.0011\n",
            "Epoch 37/100\n",
            "62/62 [==============================] - 7s 120ms/step - loss: 0.0011\n",
            "Epoch 38/100\n",
            "62/62 [==============================] - 8s 121ms/step - loss: 9.6484e-04\n",
            "Epoch 39/100\n",
            "62/62 [==============================] - 7s 120ms/step - loss: 9.3013e-04\n",
            "Epoch 40/100\n",
            "62/62 [==============================] - 7s 120ms/step - loss: 9.2362e-04\n",
            "Epoch 41/100\n",
            "62/62 [==============================] - 7s 121ms/step - loss: 9.6260e-04\n",
            "Epoch 42/100\n",
            "62/62 [==============================] - 7s 120ms/step - loss: 0.0010\n",
            "Epoch 43/100\n",
            "62/62 [==============================] - 8s 122ms/step - loss: 9.0292e-04\n",
            "Epoch 44/100\n",
            "62/62 [==============================] - 8s 122ms/step - loss: 9.0406e-04\n",
            "Epoch 45/100\n",
            "62/62 [==============================] - 8s 121ms/step - loss: 9.3292e-04\n",
            "Epoch 46/100\n",
            "62/62 [==============================] - 8s 122ms/step - loss: 9.1257e-04\n",
            "Epoch 47/100\n",
            "62/62 [==============================] - 8s 123ms/step - loss: 8.3540e-04\n",
            "Epoch 48/100\n",
            "62/62 [==============================] - 8s 122ms/step - loss: 8.1821e-04\n",
            "Epoch 49/100\n",
            "62/62 [==============================] - 7s 121ms/step - loss: 8.0005e-04\n",
            "Epoch 50/100\n",
            "62/62 [==============================] - 7s 121ms/step - loss: 8.2799e-04\n",
            "Epoch 51/100\n",
            "62/62 [==============================] - 8s 122ms/step - loss: 0.0010\n",
            "Epoch 52/100\n",
            "62/62 [==============================] - 8s 123ms/step - loss: 8.3083e-04\n",
            "Epoch 53/100\n",
            "62/62 [==============================] - 8s 121ms/step - loss: 7.8261e-04\n",
            "Epoch 54/100\n",
            "62/62 [==============================] - 8s 121ms/step - loss: 7.9634e-04\n",
            "Epoch 55/100\n",
            "62/62 [==============================] - 8s 121ms/step - loss: 7.4217e-04\n",
            "Epoch 56/100\n",
            "62/62 [==============================] - 8s 122ms/step - loss: 9.0796e-04\n",
            "Epoch 57/100\n",
            "62/62 [==============================] - 7s 120ms/step - loss: 7.1760e-04\n",
            "Epoch 58/100\n",
            "62/62 [==============================] - 7s 121ms/step - loss: 7.8363e-04\n",
            "Epoch 59/100\n",
            "62/62 [==============================] - 7s 120ms/step - loss: 8.6157e-04\n",
            "Epoch 60/100\n",
            "62/62 [==============================] - 8s 121ms/step - loss: 7.5966e-04\n",
            "Epoch 61/100\n",
            "62/62 [==============================] - 8s 121ms/step - loss: 6.9284e-04\n",
            "Epoch 62/100\n",
            "62/62 [==============================] - 8s 122ms/step - loss: 7.8126e-04\n",
            "Epoch 63/100\n",
            "62/62 [==============================] - 8s 121ms/step - loss: 6.7730e-04\n",
            "Epoch 64/100\n",
            "62/62 [==============================] - 7s 121ms/step - loss: 7.0606e-04\n",
            "Epoch 65/100\n",
            "62/62 [==============================] - 8s 121ms/step - loss: 8.2811e-04\n",
            "Epoch 66/100\n",
            "62/62 [==============================] - 8s 122ms/step - loss: 7.5132e-04\n",
            "Epoch 67/100\n",
            "62/62 [==============================] - 7s 121ms/step - loss: 6.6092e-04\n",
            "Epoch 68/100\n",
            "62/62 [==============================] - 8s 121ms/step - loss: 9.6868e-04\n",
            "Epoch 69/100\n",
            "62/62 [==============================] - 7s 121ms/step - loss: 8.5361e-04\n",
            "Epoch 70/100\n",
            "62/62 [==============================] - 8s 122ms/step - loss: 6.6886e-04\n",
            "Epoch 71/100\n",
            "62/62 [==============================] - 8s 123ms/step - loss: 7.9917e-04\n",
            "Epoch 72/100\n",
            "62/62 [==============================] - 8s 121ms/step - loss: 7.6061e-04\n",
            "Epoch 73/100\n",
            "62/62 [==============================] - 8s 122ms/step - loss: 6.3132e-04\n",
            "Epoch 74/100\n",
            "62/62 [==============================] - 8s 121ms/step - loss: 6.6118e-04\n",
            "Epoch 75/100\n",
            "62/62 [==============================] - 8s 122ms/step - loss: 6.5460e-04\n",
            "Epoch 76/100\n",
            "62/62 [==============================] - 8s 121ms/step - loss: 6.3908e-04\n",
            "Epoch 77/100\n",
            "62/62 [==============================] - 8s 121ms/step - loss: 6.3790e-04\n",
            "Epoch 78/100\n",
            "62/62 [==============================] - 8s 122ms/step - loss: 7.1676e-04\n",
            "Epoch 79/100\n",
            "62/62 [==============================] - 8s 122ms/step - loss: 6.4882e-04\n",
            "Epoch 80/100\n",
            "62/62 [==============================] - 8s 121ms/step - loss: 5.4019e-04\n",
            "Epoch 81/100\n",
            "62/62 [==============================] - 8s 122ms/step - loss: 6.9254e-04\n",
            "Epoch 82/100\n",
            "62/62 [==============================] - 8s 121ms/step - loss: 5.9053e-04\n",
            "Epoch 83/100\n",
            "62/62 [==============================] - 8s 121ms/step - loss: 5.4917e-04\n",
            "Epoch 84/100\n",
            "62/62 [==============================] - 7s 121ms/step - loss: 8.6625e-04\n",
            "Epoch 85/100\n",
            "62/62 [==============================] - 8s 122ms/step - loss: 8.1949e-04\n",
            "Epoch 86/100\n",
            "62/62 [==============================] - 8s 121ms/step - loss: 6.4664e-04\n",
            "Epoch 87/100\n",
            "62/62 [==============================] - 8s 123ms/step - loss: 6.8448e-04\n",
            "Epoch 88/100\n",
            "62/62 [==============================] - 8s 121ms/step - loss: 5.8653e-04\n",
            "Epoch 89/100\n",
            "62/62 [==============================] - 8s 121ms/step - loss: 6.4499e-04\n",
            "Epoch 90/100\n",
            "62/62 [==============================] - 7s 121ms/step - loss: 5.6515e-04\n",
            "Epoch 91/100\n",
            "62/62 [==============================] - 8s 122ms/step - loss: 6.4493e-04\n",
            "Epoch 92/100\n",
            "62/62 [==============================] - 8s 121ms/step - loss: 5.9115e-04\n",
            "Epoch 93/100\n",
            "62/62 [==============================] - 8s 122ms/step - loss: 6.0919e-04\n",
            "Epoch 94/100\n",
            "62/62 [==============================] - 8s 121ms/step - loss: 6.9715e-04\n",
            "Epoch 95/100\n",
            "62/62 [==============================] - 8s 121ms/step - loss: 6.0294e-04\n",
            "Epoch 96/100\n",
            "62/62 [==============================] - 7s 121ms/step - loss: 5.5358e-04\n",
            "Epoch 97/100\n",
            "62/62 [==============================] - 8s 121ms/step - loss: 6.1664e-04\n",
            "Epoch 98/100\n",
            "62/62 [==============================] - 8s 122ms/step - loss: 5.8943e-04\n",
            "Epoch 99/100\n",
            "62/62 [==============================] - 7s 121ms/step - loss: 5.9198e-04\n",
            "Epoch 100/100\n",
            "62/62 [==============================] - 8s 121ms/step - loss: 6.3005e-04\n"
          ]
        },
        {
          "output_type": "execute_result",
          "data": {
            "text/plain": [
              "<keras.callbacks.History at 0x7f140bad5b10>"
            ]
          },
          "metadata": {},
          "execution_count": 16
        }
      ]
    },
    {
      "cell_type": "markdown",
      "source": [
        "###Teszt adatbázisra történő előrejelzések"
      ],
      "metadata": {
        "id": "W0C8zNmPLg5-"
      }
    },
    {
      "cell_type": "code",
      "source": [
        "url = 'https://raw.githubusercontent.com/mwitiderrick/stockprice/master/tatatest.csv'\n",
        "dataset_test = pd.read_csv(url)\n",
        "real_stock_price = dataset_test.iloc[:, 1:2].values"
      ],
      "metadata": {
        "id": "Poa4yn45FdAf"
      },
      "execution_count": 17,
      "outputs": []
    },
    {
      "cell_type": "code",
      "source": [
        "dataset_total = pd.concat((dataset_train['Open'], dataset_test['Open']), axis = 0)\n",
        "inputs = dataset_total[len(dataset_total) - len(dataset_test) - 60:].values\n",
        "inputs = inputs.reshape(-1,1)\n",
        "inputs = sc.transform(inputs)\n",
        "X_test = []\n",
        "for i in range(60, 76):\n",
        "  X_test.append(inputs[i-60:i, 0])\n",
        "X_test = np.array(X_test)\n",
        "X_test = np.reshape(X_test, (X_test.shape[0], X_test.shape[1], 1))\n",
        "predicted_stock_price = model.predict(X_test)\n",
        "predicted_stock_price = sc.inverse_transform(predicted_stock_price)"
      ],
      "metadata": {
        "id": "9PzFOf5VFdDt"
      },
      "execution_count": 20,
      "outputs": []
    },
    {
      "cell_type": "code",
      "source": [
        "plt.plot(real_stock_price, color = 'red', label = 'TATA Stock Price')\n",
        "plt.plot(predicted_stock_price, color = 'blue', label = 'Predicted TATA Stock Price')\n",
        "plt.title('TATA Stock Price Prediction')\n",
        "plt.xlabel('Time')\n",
        "plt.ylabel('TATA Stock Price')\n",
        "plt.legend()\n",
        "plt.show()"
      ],
      "metadata": {
        "colab": {
          "base_uri": "https://localhost:8080/",
          "height": 295
        },
        "id": "zhdUvLopFdHO",
        "outputId": "fc8a625c-f248-4f0d-d142-1ea6af469520"
      },
      "execution_count": 24,
      "outputs": [
        {
          "output_type": "display_data",
          "data": {
            "text/plain": [
              "<Figure size 432x288 with 1 Axes>"
            ],
            "image/png": "[encoded data removed]"
          },
          "metadata": {
            "needs_background": "light"
          }
        }
      ]
    },
    {
      "cell_type": "markdown",
      "source": [
        "Ez csodálatos! Az LSTM modell tényleg képes az előrejelzésre! 😊"
      ],
      "metadata": {
        "id": "bExZPSeKFdLC"
      }
    }
  ]
}